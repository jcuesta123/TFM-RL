{
  "nbformat": 4,
  "nbformat_minor": 0,
  "metadata": {
    "colab": {
      "provenance": [],
      "authorship_tag": "ABX9TyO8g75IwylocVDHvBobil3y",
      "include_colab_link": true
    },
    "kernelspec": {
      "name": "python3",
      "display_name": "Python 3"
    },
    "language_info": {
      "name": "python"
    }
  },
  "cells": [
    {
      "cell_type": "markdown",
      "metadata": {
        "id": "view-in-github",
        "colab_type": "text"
      },
      "source": [
        "<a href=\"https://colab.research.google.com/github/jcuesta123/TFM-RL/blob/main/helicopter_taking_off.ipynb\" target=\"_parent\"><img src=\"https://colab.research.google.com/assets/colab-badge.svg\" alt=\"Open In Colab\"/></a>"
      ]
    },
    {
      "cell_type": "code",
      "execution_count": 1,
      "metadata": {
        "id": "7cnUPOy5rBU6"
      },
      "outputs": [],
      "source": [
        "#IMPORTS\n",
        "\n",
        "import numpy as np\n",
        "import math\n",
        "import random\n",
        "import matplotlib.pyplot as plt\n",
        "from collections import deque\n",
        "\n",
        "import torch\n",
        "import torch.nn as nn\n",
        "import torch.nn.functional as F\n",
        "import torch.optim as optim"
      ]
    },
    {
      "cell_type": "code",
      "source": [
        "#STATE, FEATURES, ACTIONS\n",
        "\n",
        "state = np.array([0., 0., 0., 0., 0., 0.]) # x,y,v_x,v_y,T,theta\n",
        "num_features = state.size\n",
        "num_actions = 5 # no action, more traction, less traction, more angle, less angle"
      ],
      "metadata": {
        "id": "J1taajJurjNR"
      },
      "execution_count": 2,
      "outputs": []
    },
    {
      "cell_type": "code",
      "source": [
        "#NEURONAL NETWORKS\n",
        "\n",
        "class DQN(nn.Module):\n",
        "    \"\"\"Dense neural network class.\"\"\"\n",
        "    def __init__(self, num_inputs, num_actions):\n",
        "        super(DQN, self).__init__()\n",
        "        self.fc1 = nn.Linear(num_inputs, 64)\n",
        "        self.fc2 = nn.Linear(64, 128)\n",
        "        self.out = nn.Linear(128, num_actions)\n",
        "\n",
        "    def forward(self, states):\n",
        "        \"\"\"Forward pass.\"\"\"\n",
        "        x = F.relu(self.fc1(states))\n",
        "        x = F.relu(self.fc2(x))\n",
        "        return self.out(x)\n",
        "\n",
        "device = torch.device(\"cuda\" if torch.cuda.is_available() else \"cpu\")\n",
        "\n",
        "main_nn = DQN(num_features, num_actions).to(device)\n",
        "target_nn = DQN(num_features, num_actions).to(device)\n",
        "\n",
        "optimizer = torch.optim.Adam(main_nn.parameters(), lr=1e-4)\n",
        "loss_fn = nn.MSELoss()"
      ],
      "metadata": {
        "id": "HXnP_l3rrk0o"
      },
      "execution_count": 41,
      "outputs": []
    },
    {
      "cell_type": "code",
      "source": [
        "#BUFFER MEMORY\n",
        "\n",
        "class ReplayBuffer(object):\n",
        "  \"\"\"Experience replay buffer that samples uniformly.\"\"\"\n",
        "  def __init__(self, size, device=\"cpu\"):\n",
        "    \"\"\"Initializes the buffer.\"\"\"\n",
        "    self.buffer = deque(maxlen=size)\n",
        "    self.device = device\n",
        "\n",
        "  def add(self, state, action, reward, next_state, done):\n",
        "    self.buffer.append((state, action, reward, next_state, done))\n",
        "\n",
        "  def __len__(self):\n",
        "    return len(self.buffer)\n",
        "\n",
        "  def sample(self, num_samples):\n",
        "    states, actions, rewards, next_states, dones = [], [], [], [], []\n",
        "    idx = np.random.choice(len(self.buffer), num_samples)\n",
        "    for i in idx:\n",
        "      elem = self.buffer[i]\n",
        "      state, action, reward, next_state, done = elem\n",
        "      states.append(np.array(state, copy=False))\n",
        "      actions.append(np.array(action, copy=False))\n",
        "      rewards.append(reward)\n",
        "      next_states.append(np.array(next_state, copy=False))\n",
        "      dones.append(done)\n",
        "    states = torch.as_tensor(np.array(states), device=self.device)\n",
        "    actions = torch.as_tensor(np.array(actions), device=self.device)\n",
        "    rewards = torch.as_tensor(np.array(rewards, dtype=np.float32), device=self.device\n",
        "    )\n",
        "    next_states = torch.as_tensor(np.array(next_states), device=self.device)\n",
        "    dones = torch.as_tensor(np.array(dones, dtype=np.float32), device=self.device)\n",
        "    return states, actions, rewards, next_states, dones"
      ],
      "metadata": {
        "id": "6AKhh6HVruyA"
      },
      "execution_count": 4,
      "outputs": []
    },
    {
      "cell_type": "code",
      "source": [
        "#TRAIN FUNCTION\n",
        "\n",
        "def train_step(states, actions, rewards, next_states, dones):\n",
        "\n",
        "  max_next_qs = target_nn(next_states).max(-1).values\n",
        "  target = rewards + (1.0 - dones) * discount * max_next_qs\n",
        "  qs = main_nn(states)\n",
        "  action_masks = F.one_hot(actions, num_actions)\n",
        "  masked_qs = (action_masks * qs).sum(dim=-1)\n",
        "  loss = loss_fn(masked_qs, target.detach())\n",
        "\n",
        "  optimizer.zero_grad()\n",
        "  loss.backward()\n",
        "  optimizer.step()\n",
        "  return loss"
      ],
      "metadata": {
        "id": "w53rll-5rxRo"
      },
      "execution_count": 5,
      "outputs": []
    },
    {
      "cell_type": "code",
      "source": [
        "#ACTION FUNCTION\n",
        "\n",
        "def select_epsilon_greedy_action(state, epsilon):\n",
        "\n",
        "  result = np.random.uniform()\n",
        "\n",
        "  if result < epsilon:\n",
        "    return random.randint(0, num_actions-1)   #random action\n",
        "  else:\n",
        "    qs = main_nn(state).cpu().data.numpy()    #NN action\n",
        "    return np.argmax(qs)"
      ],
      "metadata": {
        "id": "bKGLx3AirzK4"
      },
      "execution_count": 6,
      "outputs": []
    },
    {
      "cell_type": "code",
      "source": [
        "#PARAMETERS\n",
        "g = 10\n",
        "m_h = 1\n",
        "deltaT = 0.1\n",
        "\n",
        "max_action_space = np.array([2*m_h*g, math.pi/4])\n",
        "min_action_space = np.array([0, -math.pi/4])"
      ],
      "metadata": {
        "id": "v-3G-BQXr1cZ"
      },
      "execution_count": 7,
      "outputs": []
    },
    {
      "cell_type": "code",
      "source": [
        "#ENVIRONMENT FUNCTION\n",
        "\n",
        "def environment(state, action):\n",
        "\n",
        "  new_state = state\n",
        "  done = False\n",
        "\n",
        "  #processing action\n",
        "  if action == 1:\n",
        "    new_state[4] = state[4] + max_action_space[0]/10\n",
        "  elif action == 2:\n",
        "    new_state[4] = state[4] - max_action_space[0]/10\n",
        "  elif action == 3:\n",
        "    new_state[5] = state[5] + max_action_space[1]/10\n",
        "  elif action == 4:\n",
        "    new_state[5] = state[5] - max_action_space[1]/10\n",
        "  else: # if action == 0 -> no action\n",
        "    pass\n",
        "\n",
        "  #to not surpass limits\n",
        "  if new_state[4] > max_action_space[0]:\n",
        "    new_state[4] = max_action_space[0]\n",
        "  elif new_state[4] < min_action_space[0]:\n",
        "    new_state[4] = min_action_space[0]\n",
        "  elif new_state[5] > max_action_space[1]:\n",
        "    new_state[5] = max_action_space[1]\n",
        "  elif new_state[5] < min_action_space[1]:\n",
        "    new_state[5] = min_action_space[1]\n",
        "  else:\n",
        "    pass\n",
        "\n",
        "  #Mechanics\n",
        "  #Forces\n",
        "  a_x = new_state[4]*math.sin(new_state[5])/m_h\n",
        "  a_y = new_state[4]*math.cos(new_state[5])/m_h - g\n",
        "\n",
        "  #Velocities\n",
        "  new_state[2] = new_state[2] + deltaT*a_x\n",
        "  new_state[3] = new_state[3] + deltaT*a_y\n",
        "\n",
        "  #Positions\n",
        "  new_state[0] = new_state[0] + deltaT*new_state[2]\n",
        "  new_state[1] = new_state[1] + deltaT*new_state[3]\n",
        "\n",
        "\n",
        "  #TERMINATE TRAINING conditions, also based on training aim\n",
        "\n",
        "  if new_state[1] < 0.05:   #ground contact\n",
        "    if new_state[3] < -3:   #crash\n",
        "      done = True\n",
        "    elif new_state[4] < m_h * g * math.cos(new_state[5]):  #stopped on ground\n",
        "      new_state[0] = state[0]\n",
        "      new_state[1] = 0\n",
        "      new_state[2] = 0\n",
        "      new_state[3] = 0\n",
        "    else:                #start take-off\n",
        "      pass\n",
        "  elif new_state[1]-new_state[0] < -50:           #lower limit\n",
        "    done = True\n",
        "  elif new_state[1]-new_state[0] > 50:            #upper limit\n",
        "    done = True\n",
        "  elif new_state[0] > dest[0]:            #destination reached\n",
        "    done = True\n",
        "  else:\n",
        "    pass\n",
        "\n",
        "\n",
        "\n",
        "  # call reward function\n",
        "  reward = reward_function(new_state, done)\n",
        "\n",
        "  return new_state, reward, done"
      ],
      "metadata": {
        "id": "4H67jNElr40n"
      },
      "execution_count": 23,
      "outputs": []
    },
    {
      "cell_type": "code",
      "source": [
        "#REWARD FUCNTION\n",
        "\n",
        "def reward_function(state, done):\n",
        "\n",
        "  reward = 0\n",
        "\n",
        "  #position -> for approaching to destiny\n",
        "  distance = math.sqrt((dest[0]-state[0])**2 + (dest[1]-state[1])**2)\n",
        "  reward += 100/(10 + distance) - 0.66\n",
        "\n",
        "  #trajectory -> triying to lead flight\n",
        "  if state[0] - 10 < state[1] < state[0] + 10:\n",
        "    reward += 1\n",
        "\n",
        "  #final reward\n",
        "  if done == True:\n",
        "    reward += -10\n",
        "    if state[0] > dest[0]:\n",
        "      reward += 20\n",
        "\n",
        "  return reward"
      ],
      "metadata": {
        "id": "S6QVo18Pr75H"
      },
      "execution_count": 37,
      "outputs": []
    },
    {
      "cell_type": "code",
      "source": [
        "print(100/(10 + (math.sqrt((dest[0]-state[0])**2 + (dest[1]-state[1])**2))))"
      ],
      "metadata": {
        "colab": {
          "base_uri": "https://localhost:8080/"
        },
        "id": "xnGJEzXSkD7h",
        "outputId": "7b4cba74-7708-4f7a-aed6-40e76baac104"
      },
      "execution_count": 17,
      "outputs": [
        {
          "output_type": "stream",
          "name": "stdout",
          "text": [
            "0.6604088253131131\n"
          ]
        }
      ]
    },
    {
      "cell_type": "code",
      "source": [
        "#GRAPHIC FUNCTION\n",
        "\n",
        "def plot_traj(matrix_info):\n",
        "\n",
        "  # matrix to draw the results\n",
        "  x = matrix_info[:, 0]\n",
        "  y = matrix_info[:, 1]\n",
        "  v_x = matrix_info[:, 2]\n",
        "  v_y = matrix_info[:, 3]\n",
        "  T = matrix_info[:, 4]\n",
        "  theta = matrix_info[:, 5]\n",
        "  t = matrix_info[:,6]\n",
        "  r = matrix_info[:, 7]\n",
        "\n",
        "  #trajectory\n",
        "  plt.subplot(3, 2, 1)  #3 row, 2 columns, 1st position\n",
        "  plt.plot(x, y)  # 'r--' indica línea roja discontinua\n",
        "  plt.plot(dest[0], dest[1], 'ro')\n",
        "  plt.plot(x[0], y[1], 'ro')\n",
        "  plt.title('Trayectory (m)')\n",
        "  plt.xlabel('Axis X')\n",
        "  plt.ylabel('Axis Y')\n",
        "  plt.axhline(0, color='black', linewidth=0.5)\n",
        "  plt.axvline(0, color='black', linewidth=0.5)\n",
        "\n",
        "  #speed vs time\n",
        "  plt.subplot(3, 2, 2)\n",
        "  plt.title('Velocities (m/s)')\n",
        "  plt.plot(t, v_x, label='V_x (blue)', color='blue')\n",
        "  plt.plot(t, v_y, label='V_y (red)', color='red')\n",
        "  plt.legend()\n",
        "  plt.grid(True)\n",
        "\n",
        "  #traction vs time\n",
        "  plt.subplot(3, 2, 3)\n",
        "  plt.title('Traction(N)')\n",
        "  plt.plot(t, T, label='T', color='blue')\n",
        "  plt.grid(True)\n",
        "\n",
        "  #rewards vs time\n",
        "  plt.subplot(3, 2, 4)\n",
        "  plt.title('Cumulative reward')\n",
        "  plt.plot(t, r, label='Reward', color='blue')\n",
        "  plt.grid(True)\n",
        "\n",
        "  #angle theta vs time\n",
        "  plt.subplot(3, 2, 5)\n",
        "  plt.title('Theta(rad)')\n",
        "  plt.plot(t, theta, label='theta', color='red')\n",
        "  plt.grid(True)\n",
        "\n",
        "  plt.tight_layout()\n",
        "  plt.show()"
      ],
      "metadata": {
        "id": "bkrM99GKsAA3"
      },
      "execution_count": 10,
      "outputs": []
    },
    {
      "cell_type": "code",
      "source": [
        "#INITIAL CONDITIONS\n",
        "\n",
        "initial_state = np.array([0, 0, 0, 0, 12, 0])\n",
        "dest = np.array([100, 100])"
      ],
      "metadata": {
        "id": "Q8_tcEMssDU3"
      },
      "execution_count": 30,
      "outputs": []
    },
    {
      "cell_type": "code",
      "source": [
        "#TRAINING LOOP\n",
        "\n",
        "# Hyperparameters.\n",
        "num_episodes = 1000   #IMPORTANT\n",
        "epsilon = 1.0\n",
        "batch_size = 32\n",
        "discount = 0.99\n",
        "buffer = ReplayBuffer(100000, device=device)\n",
        "last_100_ep_rewards = []\n",
        "\n",
        "#main loop\n",
        "for episode in range(num_episodes+1):\n",
        "  state = initial_state.astype(np.float32)\n",
        "  cur_frame = 0\n",
        "  ep_reward = 0\n",
        "  done = False\n",
        "\n",
        "  #episodes\n",
        "  while not done:\n",
        "    if cur_frame > 1000:\n",
        "      break\n",
        "\n",
        "    state_in = torch.from_numpy(np.expand_dims(state, axis=0)).to(device)\n",
        "    action = select_epsilon_greedy_action(state_in, epsilon)\n",
        "    next_state, reward, done = environment(state, action)\n",
        "    next_state = next_state.astype(np.float32)\n",
        "    ep_reward += reward\n",
        "\n",
        "    #save experience\n",
        "    buffer.add(state, action, reward, next_state, done)\n",
        "    state = next_state\n",
        "    cur_frame += 1\n",
        "\n",
        "    #copy main_nn weights to target_nn.\n",
        "    if cur_frame % 2000 == 0:\n",
        "      target_nn.load_state_dict(main_nn.state_dict())\n",
        "\n",
        "    #train neural network.\n",
        "    if len(buffer) > batch_size:\n",
        "      states, actions, rewards, next_states, dones = buffer.sample(batch_size)\n",
        "      loss = train_step(states, actions, rewards, next_states, dones)\n",
        "\n",
        "  #epsilon decresases each episode\n",
        "  if epsilon > 0.05:\n",
        "    epsilon -= 0.95/num_episodes\n",
        "\n",
        "  if len(last_100_ep_rewards) == 100:\n",
        "    last_100_ep_rewards = last_100_ep_rewards[1:]\n",
        "  last_100_ep_rewards.append(ep_reward)\n",
        "\n",
        "  #printing training progress\n",
        "  if episode % 20 == 0:\n",
        "    print(f'Episode {episode}/{num_episodes}. Epsilon: {epsilon:.3f}.'\n",
        "          f' Reward in last 100 episodes: {np.mean(last_100_ep_rewards):.2f}')"
      ],
      "metadata": {
        "colab": {
          "base_uri": "https://localhost:8080/"
        },
        "id": "2TLtfp2ksGkX",
        "outputId": "71431bfa-0d86-43c2-c6f3-d33059915c0d"
      },
      "execution_count": 45,
      "outputs": [
        {
          "output_type": "stream",
          "name": "stdout",
          "text": [
            "Episode 0/1000. Epsilon: 0.999. Reward in last 100 episodes: 16.91\n",
            "Episode 20/1000. Epsilon: 0.980. Reward in last 100 episodes: 46.72\n",
            "Episode 40/1000. Epsilon: 0.961. Reward in last 100 episodes: 45.79\n",
            "Episode 60/1000. Epsilon: 0.942. Reward in last 100 episodes: 54.74\n",
            "Episode 80/1000. Epsilon: 0.923. Reward in last 100 episodes: 54.29\n",
            "Episode 100/1000. Epsilon: 0.904. Reward in last 100 episodes: 52.92\n",
            "Episode 120/1000. Epsilon: 0.885. Reward in last 100 episodes: 52.18\n",
            "Episode 140/1000. Epsilon: 0.866. Reward in last 100 episodes: 60.32\n",
            "Episode 160/1000. Epsilon: 0.847. Reward in last 100 episodes: 65.41\n",
            "Episode 180/1000. Epsilon: 0.828. Reward in last 100 episodes: 68.56\n",
            "Episode 200/1000. Epsilon: 0.809. Reward in last 100 episodes: 74.20\n",
            "Episode 220/1000. Epsilon: 0.790. Reward in last 100 episodes: 83.50\n",
            "Episode 240/1000. Epsilon: 0.771. Reward in last 100 episodes: 83.04\n",
            "Episode 260/1000. Epsilon: 0.752. Reward in last 100 episodes: 75.67\n",
            "Episode 280/1000. Epsilon: 0.733. Reward in last 100 episodes: 81.86\n",
            "Episode 300/1000. Epsilon: 0.714. Reward in last 100 episodes: 84.58\n",
            "Episode 320/1000. Epsilon: 0.695. Reward in last 100 episodes: 77.45\n",
            "Episode 340/1000. Epsilon: 0.676. Reward in last 100 episodes: 75.13\n",
            "Episode 360/1000. Epsilon: 0.657. Reward in last 100 episodes: 73.21\n",
            "Episode 380/1000. Epsilon: 0.638. Reward in last 100 episodes: 66.74\n",
            "Episode 400/1000. Epsilon: 0.619. Reward in last 100 episodes: 62.13\n",
            "Episode 420/1000. Epsilon: 0.600. Reward in last 100 episodes: 66.42\n",
            "Episode 440/1000. Epsilon: 0.581. Reward in last 100 episodes: 66.88\n",
            "Episode 460/1000. Epsilon: 0.562. Reward in last 100 episodes: 70.10\n",
            "Episode 480/1000. Epsilon: 0.543. Reward in last 100 episodes: 72.68\n",
            "Episode 500/1000. Epsilon: 0.524. Reward in last 100 episodes: 72.33\n",
            "Episode 520/1000. Epsilon: 0.505. Reward in last 100 episodes: 71.95\n",
            "Episode 540/1000. Epsilon: 0.486. Reward in last 100 episodes: 67.32\n",
            "Episode 560/1000. Epsilon: 0.467. Reward in last 100 episodes: 73.45\n",
            "Episode 580/1000. Epsilon: 0.448. Reward in last 100 episodes: 72.47\n",
            "Episode 600/1000. Epsilon: 0.429. Reward in last 100 episodes: 72.24\n",
            "Episode 620/1000. Epsilon: 0.410. Reward in last 100 episodes: 69.83\n",
            "Episode 640/1000. Epsilon: 0.391. Reward in last 100 episodes: 77.74\n",
            "Episode 660/1000. Epsilon: 0.372. Reward in last 100 episodes: 65.93\n",
            "Episode 680/1000. Epsilon: 0.353. Reward in last 100 episodes: 58.73\n",
            "Episode 700/1000. Epsilon: 0.334. Reward in last 100 episodes: 60.51\n",
            "Episode 720/1000. Epsilon: 0.315. Reward in last 100 episodes: 59.51\n",
            "Episode 740/1000. Epsilon: 0.296. Reward in last 100 episodes: 50.75\n",
            "Episode 760/1000. Epsilon: 0.277. Reward in last 100 episodes: 51.53\n",
            "Episode 780/1000. Epsilon: 0.258. Reward in last 100 episodes: 53.49\n",
            "Episode 800/1000. Epsilon: 0.239. Reward in last 100 episodes: 49.38\n",
            "Episode 820/1000. Epsilon: 0.220. Reward in last 100 episodes: 45.06\n",
            "Episode 840/1000. Epsilon: 0.201. Reward in last 100 episodes: 45.30\n",
            "Episode 860/1000. Epsilon: 0.182. Reward in last 100 episodes: 44.91\n",
            "Episode 880/1000. Epsilon: 0.163. Reward in last 100 episodes: 54.37\n",
            "Episode 900/1000. Epsilon: 0.144. Reward in last 100 episodes: 51.50\n",
            "Episode 920/1000. Epsilon: 0.125. Reward in last 100 episodes: 63.54\n",
            "Episode 940/1000. Epsilon: 0.106. Reward in last 100 episodes: 63.45\n",
            "Episode 960/1000. Epsilon: 0.087. Reward in last 100 episodes: 68.00\n",
            "Episode 980/1000. Epsilon: 0.068. Reward in last 100 episodes: 65.71\n",
            "Episode 1000/1000. Epsilon: 0.050. Reward in last 100 episodes: 70.77\n"
          ]
        }
      ]
    },
    {
      "cell_type": "code",
      "source": [
        "# FINAL SIMULATION, AFTER NN TRAINING\n",
        "\n",
        "epsilon = 0\n",
        "cur_frame = 0\n",
        "time = 0\n",
        "\n",
        "state = initial_state.astype(np.float32)\n",
        "matrix_info = np.concatenate((state, [time], [0]))\n",
        "ep_reward, done = 0, False\n",
        "\n",
        "while not done:\n",
        "\n",
        "  if cur_frame > 1000:\n",
        "    break\n",
        "  state_in = torch.from_numpy(np.expand_dims(state, axis=0)).to(device)\n",
        "  action = select_epsilon_greedy_action(state_in, epsilon)\n",
        "  next_state, reward, done = environment(state, action)\n",
        "  if done == True:\n",
        "    print(done)\n",
        "  next_state = next_state.astype(np.float32)\n",
        "  ep_reward += reward\n",
        "  time = deltaT * cur_frame\n",
        "\n",
        "  matrix_info = np.vstack([matrix_info, np.concatenate((state, [time], [ep_reward]))])\n",
        "\n",
        "  state = next_state\n",
        "  cur_frame += 1\n",
        "\n",
        "print('Initial state: ', initial_state)\n",
        "print('Episode terminated at frame: ', cur_frame, ', time = ', deltaT * cur_frame, 's')\n",
        "print('Reward reached: ', ep_reward)\n",
        "plot_traj(matrix_info)"
      ],
      "metadata": {
        "colab": {
          "base_uri": "https://localhost:8080/",
          "height": 560
        },
        "id": "Ip2xTtcXsNVn",
        "outputId": "3d009303-3e37-4094-843f-4f5d7d7d2735"
      },
      "execution_count": 46,
      "outputs": [
        {
          "output_type": "stream",
          "name": "stdout",
          "text": [
            "True\n",
            "Initial state:  [ 0  0  0  0 12  0]\n",
            "Episode terminated at frame:  37 , time =  3.7 s\n",
            "Reward reached:  11.961188710122094\n"
          ]
        },
        {
          "output_type": "display_data",
          "data": {
            "text/plain": [
              "<Figure size 640x480 with 5 Axes>"
            ],
            "image/png": "[encoded data removed]"
          },
          "metadata": {}
        }
      ]
    }
  ]
}