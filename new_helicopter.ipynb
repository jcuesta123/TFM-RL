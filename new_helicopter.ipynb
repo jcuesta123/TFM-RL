{
  "nbformat": 4,
  "nbformat_minor": 0,
  "metadata": {
    "colab": {
      "provenance": [],
      "authorship_tag": "ABX9TyOT1+QGjvua74yxtHuPt1lD",
      "include_colab_link": true
    },
    "kernelspec": {
      "name": "python3",
      "display_name": "Python 3"
    },
    "language_info": {
      "name": "python"
    }
  },
  "cells": [
    {
      "cell_type": "markdown",
      "metadata": {
        "id": "view-in-github",
        "colab_type": "text"
      },
      "source": [
        "<a href=\"https://colab.research.google.com/github/jcuesta123/TFM-RL/blob/main/new_helicopter.ipynb\" target=\"_parent\"><img src=\"https://colab.research.google.com/assets/colab-badge.svg\" alt=\"Open In Colab\"/></a>"
      ]
    },
    {
      "cell_type": "code",
      "source": [
        "#IMPORTS\n",
        "import numpy as np\n",
        "import math\n",
        "import random\n",
        "import matplotlib.pyplot as plt\n",
        "from collections import deque\n",
        "\n",
        "import torch\n",
        "import torch.nn as nn\n",
        "import torch.nn.functional as F\n",
        "import torch.optim as optim"
      ],
      "metadata": {
        "id": "4vKJ-hxbQVLF"
      },
      "execution_count": 1,
      "outputs": []
    },
    {
      "cell_type": "code",
      "source": [
        "state = np.array([0., 0., 0., 0., 0., 0.]) # x,y,v_x,v_y,T,theta\n",
        "num_features = state.size\n",
        "num_actions = 5 # nothing, more traction, less traction, more angle, less angle\n",
        "print(num_features, num_actions)"
      ],
      "metadata": {
        "colab": {
          "base_uri": "https://localhost:8080/"
        },
        "id": "3vbOfCd8QCas",
        "outputId": "14fd59c0-4ced-4bae-9f8e-c220b7130941"
      },
      "execution_count": 2,
      "outputs": [
        {
          "output_type": "stream",
          "name": "stdout",
          "text": [
            "6 5\n"
          ]
        }
      ]
    },
    {
      "cell_type": "code",
      "source": [
        "device = torch.device(\"cuda\" if torch.cuda.is_available() else \"cpu\")"
      ],
      "metadata": {
        "id": "ZJTUgycRP_0f"
      },
      "execution_count": 3,
      "outputs": []
    },
    {
      "cell_type": "code",
      "execution_count": 4,
      "metadata": {
        "id": "Ks7uKLA8Ozeb"
      },
      "outputs": [],
      "source": [
        "class DQN(nn.Module):\n",
        "    \"\"\"Dense neural network class.\"\"\"\n",
        "    def __init__(self, num_inputs, num_actions):\n",
        "        super(DQN, self).__init__()\n",
        "        self.fc1 = nn.Linear(num_inputs, 32)\n",
        "        self.fc2 = nn.Linear(32, 32)\n",
        "        self.out = nn.Linear(32, num_actions)\n",
        "\n",
        "    def forward(self, states):\n",
        "        \"\"\"Forward pass.\"\"\"\n",
        "        x = F.relu(self.fc1(states))\n",
        "        x = F.relu(self.fc2(x))\n",
        "        return self.out(x)\n",
        "\n",
        "main_nn = DQN(num_features, num_actions).to(device)\n",
        "target_nn = DQN(num_features, num_actions).to(device)\n",
        "\n",
        "optimizer = torch.optim.Adam(main_nn.parameters(), lr=1e-4)\n",
        "loss_fn = nn.MSELoss()"
      ]
    },
    {
      "cell_type": "code",
      "source": [
        "class ReplayBuffer(object):\n",
        "  \"\"\"Experience replay buffer that samples uniformly.\"\"\"\n",
        "  def __init__(self, size, device=\"cpu\"):\n",
        "    \"\"\"Initializes the buffer.\"\"\"\n",
        "    self.buffer = deque(maxlen=size)\n",
        "    self.device = device\n",
        "\n",
        "  def add(self, state, action, reward, next_state, done):\n",
        "    self.buffer.append((state, action, reward, next_state, done))\n",
        "\n",
        "  def __len__(self):\n",
        "    return len(self.buffer)\n",
        "\n",
        "  def sample(self, num_samples):\n",
        "    states, actions, rewards, next_states, dones = [], [], [], [], []\n",
        "    idx = np.random.choice(len(self.buffer), num_samples)\n",
        "    for i in idx:\n",
        "      elem = self.buffer[i]\n",
        "      state, action, reward, next_state, done = elem\n",
        "      states.append(np.array(state, copy=False))\n",
        "      actions.append(np.array(action, copy=False))\n",
        "      rewards.append(reward)\n",
        "      next_states.append(np.array(next_state, copy=False))\n",
        "      dones.append(done)\n",
        "    states = torch.as_tensor(np.array(states), device=self.device)\n",
        "    actions = torch.as_tensor(np.array(actions), device=self.device)\n",
        "    rewards = torch.as_tensor(np.array(rewards, dtype=np.float32), device=self.device\n",
        "    )\n",
        "    next_states = torch.as_tensor(np.array(next_states), device=self.device)\n",
        "    dones = torch.as_tensor(np.array(dones, dtype=np.float32), device=self.device)\n",
        "    return states, actions, rewards, next_states, dones"
      ],
      "metadata": {
        "id": "xfugbXKFO9ct"
      },
      "execution_count": 5,
      "outputs": []
    },
    {
      "cell_type": "code",
      "source": [
        "def select_epsilon_greedy_action(state, epsilon):\n",
        "  \"\"\"Take random action with probability epsilon, else take best action.\"\"\"\n",
        "  result = np.random.uniform()\n",
        "\n",
        "  if result < epsilon:\n",
        "    return random.randint(0, num_actions-1)\n",
        "  else:\n",
        "    qs = main_nn(state).cpu().data.numpy()\n",
        "    return np.argmax(qs) # Greedy action for state."
      ],
      "metadata": {
        "id": "mSLtbiJfRa9s"
      },
      "execution_count": 6,
      "outputs": []
    },
    {
      "cell_type": "code",
      "source": [
        "def train_step(states, actions, rewards, next_states, dones):\n",
        "  \"\"\"Perform a training iteration on a batch of data sampled from the experience\n",
        "  replay buffer.\n",
        "  \"\"\"\n",
        "  # Calculate targets.\n",
        "  max_next_qs = target_nn(next_states).max(-1).values\n",
        "  target = rewards + (1.0 - dones) * discount * max_next_qs\n",
        "  qs = main_nn(states)\n",
        "  action_masks = F.one_hot(actions, num_actions)\n",
        "  masked_qs = (action_masks * qs).sum(dim=-1)\n",
        "  loss = loss_fn(masked_qs, target.detach())\n",
        "  #nn.utils.clip_grad_norm_(loss, max_norm=10)\n",
        "  optimizer.zero_grad()\n",
        "  loss.backward()\n",
        "  optimizer.step()\n",
        "  return loss"
      ],
      "metadata": {
        "id": "8wL_ytDISEBk"
      },
      "execution_count": 7,
      "outputs": []
    },
    {
      "cell_type": "code",
      "source": [
        "state = np.array([0., 0., 0., 0., 0., 0.]).astype(np.float64)\n",
        "type(state)"
      ],
      "metadata": {
        "colab": {
          "base_uri": "https://localhost:8080/"
        },
        "id": "xFw_IgfETjvG",
        "outputId": "c62dc157-1890-4928-f1ba-ce1f8ec38b6a"
      },
      "execution_count": 8,
      "outputs": [
        {
          "output_type": "execute_result",
          "data": {
            "text/plain": [
              "numpy.ndarray"
            ]
          },
          "metadata": {},
          "execution_count": 8
        }
      ]
    },
    {
      "cell_type": "code",
      "source": [
        "g = 10\n",
        "m_h = 1\n",
        "deltaT = 0.1\n",
        "\n",
        "max_action_space = np.array([2*m_h*g, math.pi/4])\n",
        "min_action_space = np.array([0, -math.pi/4])\n",
        "\n",
        "#environment, based on pyhsics, num. computation and conditionals\n",
        "def environment(state, action):\n",
        "\n",
        "  new_state = state\n",
        "  done = False\n",
        "\n",
        "  #Situation\n",
        "  #On ground - in flight\n",
        "  if state[1] < 0.01 and state[3] < -3:   # crash\n",
        "    done = True\n",
        "\n",
        "  #processing action\n",
        "  if action == 1:\n",
        "    new_state[4] = state[4] + max_action_space[0]/10\n",
        "  elif action == 2:\n",
        "    new_state[4] = state[4] - max_action_space[0]/10\n",
        "  elif action == 3:\n",
        "    new_state[5] = state[5] + max_action_space[1]/10\n",
        "  elif action == 4:\n",
        "    new_state[5] = state[5] - max_action_space[1]/10\n",
        "  else: #action == 0\n",
        "    pass\n",
        "\n",
        "  #to not surpass limits\n",
        "  if new_state[4] > max_action_space[0] or new_state[4] < min_action_space[0]:\n",
        "    new_state[4] = state[4]\n",
        "  if new_state[5] > math.pi/4 or new_state[5] < -math.pi/4:\n",
        "    new_state[5] = state[5]\n",
        "\n",
        "\n",
        "  #Mechanics\n",
        "  #Forces\n",
        "  a_x = new_state[4]*math.sin(new_state[5])/m_h\n",
        "  a_y = new_state[4]*math.cos(new_state[5])/m_h - g\n",
        "\n",
        "  #Velocities\n",
        "  new_state[2] = new_state[2] + deltaT*a_x\n",
        "  new_state[3] = new_state[3] + deltaT*a_y\n",
        "\n",
        "  #Positions\n",
        "  new_state[0] = new_state[0] + deltaT*new_state[2]\n",
        "  new_state[1] = new_state[1] + deltaT*new_state[3]\n",
        "\n",
        "  if new_state[1] < 0.01 and new_state[4]*math.cos(new_state[5]) < m_h*g:\n",
        "    a_x = 0.      #considered friction equals to traction x cos\n",
        "    a_y = 0.\n",
        "    new_state[1] = 0.\n",
        "    new_state[2] = 0.\n",
        "    new_state[3] = 0.\n",
        "\n",
        "  reward = reward_function(new_state, dest)\n",
        "\n",
        "  return new_state, reward, done"
      ],
      "metadata": {
        "id": "9igWicGJTz80"
      },
      "execution_count": 9,
      "outputs": []
    },
    {
      "cell_type": "code",
      "source": [
        "dest = np.array([50, 10])\n",
        "\n",
        "def reward_function(new_state, dest):\n",
        "\n",
        "  reward = np.linalg.norm(dest) - math.sqrt((dest[0]-state[0])**2+(dest[1]-state[1])**2)\n",
        "\n",
        "  return reward"
      ],
      "metadata": {
        "id": "7pmgbxmaV8ZE"
      },
      "execution_count": 10,
      "outputs": []
    },
    {
      "cell_type": "code",
      "source": [
        "# Hyperparameters.\n",
        "num_episodes = 1000\n",
        "epsilon = 1.0\n",
        "batch_size = 32\n",
        "discount = 0.99\n",
        "buffer = ReplayBuffer(100000, device=device)\n",
        "cur_frame = 0\n",
        "\n",
        "# Start training. Play game once and then train with a batch.\n",
        "last_100_ep_rewards = []\n",
        "for episode in range(num_episodes+1):\n",
        "  state = np.array([0., 0., 0., 0., 0., 0.]).astype(np.float32)\n",
        "  ep_reward, done = 0, False\n",
        "  while not done and cur_frame < 1000:\n",
        "    state_in = torch.from_numpy(np.expand_dims(state, axis=0)).to(device)\n",
        "    action = select_epsilon_greedy_action(state_in, epsilon)\n",
        "    next_state, reward, done = environment(state, action)\n",
        "    next_state = next_state.astype(np.float32)\n",
        "    ep_reward += reward\n",
        "    # Save to experience replay.\n",
        "    buffer.add(state, action, reward, next_state, done)\n",
        "    state = next_state\n",
        "    cur_frame += 1\n",
        "    # Copy main_nn weights to target_nn.\n",
        "    if cur_frame % 2000 == 0:\n",
        "      target_nn.load_state_dict(main_nn.state_dict())\n",
        "\n",
        "    # Train neural network.\n",
        "    if len(buffer) > batch_size:\n",
        "      states, actions, rewards, next_states, dones = buffer.sample(batch_size)\n",
        "      loss = train_step(states, actions, rewards, next_states, dones)\n",
        "\n",
        "  if episode < 950:\n",
        "    epsilon -= 0.001\n",
        "\n",
        "  if len(last_100_ep_rewards) == 100:\n",
        "    last_100_ep_rewards = last_100_ep_rewards[1:]\n",
        "  last_100_ep_rewards.append(ep_reward)\n",
        "\n",
        "  if episode % 50 == 0:\n",
        "    print(f'Episode {episode}/{num_episodes}. Epsilon: {epsilon:.3f}.'\n",
        "          f' Reward in last 100 episodes: {np.mean(last_100_ep_rewards):.2f}')\n",
        "    print(state)\n"
      ],
      "metadata": {
        "colab": {
          "base_uri": "https://localhost:8080/"
        },
        "id": "62iWMYMGSVvk",
        "outputId": "57c4134a-2cc8-4914-b502-787e6501be67"
      },
      "execution_count": 29,
      "outputs": [
        {
          "output_type": "stream",
          "name": "stdout",
          "text": [
            "Episode 0/1000. Epsilon: 0.999. Reward in last 100 episodes: -558428.84\n",
            "[272.50894   781.1278    -65.78577   144.58612   -28.          3.6913722]\n",
            "Episode 50/1000. Epsilon: 0.949. Reward in last 100 episodes: -10949.59\n",
            "[0. 0. 0. 0. 0. 0.]\n",
            "Episode 100/1000. Epsilon: 0.899. Reward in last 100 episodes: 0.00\n",
            "[0. 0. 0. 0. 0. 0.]\n",
            "Episode 150/1000. Epsilon: 0.849. Reward in last 100 episodes: 0.00\n",
            "[0. 0. 0. 0. 0. 0.]\n",
            "Episode 200/1000. Epsilon: 0.799. Reward in last 100 episodes: 0.00\n",
            "[0. 0. 0. 0. 0. 0.]\n",
            "Episode 250/1000. Epsilon: 0.749. Reward in last 100 episodes: 0.00\n",
            "[0. 0. 0. 0. 0. 0.]\n",
            "Episode 300/1000. Epsilon: 0.699. Reward in last 100 episodes: 0.00\n",
            "[0. 0. 0. 0. 0. 0.]\n",
            "Episode 350/1000. Epsilon: 0.649. Reward in last 100 episodes: 0.00\n",
            "[0. 0. 0. 0. 0. 0.]\n",
            "Episode 400/1000. Epsilon: 0.599. Reward in last 100 episodes: 0.00\n",
            "[0. 0. 0. 0. 0. 0.]\n",
            "Episode 450/1000. Epsilon: 0.549. Reward in last 100 episodes: 0.00\n",
            "[0. 0. 0. 0. 0. 0.]\n",
            "Episode 500/1000. Epsilon: 0.499. Reward in last 100 episodes: 0.00\n",
            "[0. 0. 0. 0. 0. 0.]\n",
            "Episode 550/1000. Epsilon: 0.449. Reward in last 100 episodes: 0.00\n",
            "[0. 0. 0. 0. 0. 0.]\n",
            "Episode 600/1000. Epsilon: 0.399. Reward in last 100 episodes: 0.00\n",
            "[0. 0. 0. 0. 0. 0.]\n",
            "Episode 650/1000. Epsilon: 0.349. Reward in last 100 episodes: 0.00\n",
            "[0. 0. 0. 0. 0. 0.]\n",
            "Episode 700/1000. Epsilon: 0.299. Reward in last 100 episodes: 0.00\n",
            "[0. 0. 0. 0. 0. 0.]\n",
            "Episode 750/1000. Epsilon: 0.249. Reward in last 100 episodes: 0.00\n",
            "[0. 0. 0. 0. 0. 0.]\n",
            "Episode 800/1000. Epsilon: 0.199. Reward in last 100 episodes: 0.00\n",
            "[0. 0. 0. 0. 0. 0.]\n",
            "Episode 850/1000. Epsilon: 0.149. Reward in last 100 episodes: 0.00\n",
            "[0. 0. 0. 0. 0. 0.]\n",
            "Episode 900/1000. Epsilon: 0.099. Reward in last 100 episodes: 0.00\n",
            "[0. 0. 0. 0. 0. 0.]\n",
            "Episode 950/1000. Epsilon: 0.050. Reward in last 100 episodes: 0.00\n",
            "[0. 0. 0. 0. 0. 0.]\n",
            "Episode 1000/1000. Epsilon: 0.050. Reward in last 100 episodes: 0.00\n",
            "[0. 0. 0. 0. 0. 0.]\n"
          ]
        }
      ]
    },
    {
      "cell_type": "code",
      "source": [
        "#PRINT TRAJECTORY\n",
        "\n",
        "def plot_traj(matrix_info):\n",
        "\n",
        "  t = matrix_info[:,6]\n",
        "\n",
        "  x = matrix_info[:, 0]\n",
        "  y = matrix_info[:, 1]\n",
        "  v_x = matrix_info[:, 2]\n",
        "  v_y = matrix_info[:, 3]\n",
        "  T = matrix_info[:, 4]\n",
        "  theta = matrix_info[:, 5]\n",
        "  r = matrix_info[:, 7]\n",
        "\n",
        "\n",
        "  plt.subplot(2, 2, 1)  # 2 filas, 1 columna, primera posición\n",
        "  plt.plot(x, y)  # 'r--' indica línea roja discontinua\n",
        "  plt.scatter(dest[0],dest[1])\n",
        "  plt.title('Trayectory (m)')\n",
        "  plt.xlabel('Axis X')\n",
        "  plt.ylabel('Axis Y')\n",
        "  plt.axhline(0, color='black', linewidth=0.5)\n",
        "  plt.axvline(0, color='black', linewidth=0.5)\n",
        "\n",
        "  # Graficamos las velocidades en función del tiempo\n",
        "  plt.subplot(2, 2, 2)  # 2 filas, 1 columna, primera posición\n",
        "  plt.title('Velocities (m/s)')\n",
        "  plt.plot(t, v_x, label='V_x', color='blue')\n",
        "  plt.plot(t, v_y, label='V_y', color='red')\n",
        "  plt.grid(True)\n",
        "\n",
        "  # Graficamos las velocidades en función del tiempo\n",
        "  plt.subplot(2, 2, 3)  # 2 filas, 1 columna, primera posición\n",
        "  plt.title('Traction(N) & Theta(rad)')\n",
        "  plt.plot(t, T, label='T', color='blue')\n",
        "  plt.plot(t, theta, label='theta', color='red')\n",
        "  plt.grid(True)\n",
        "\n",
        "  # Graficamos las velocidades en función del tiempo\n",
        "  plt.subplot(2, 2, 4)  # 2 filas, 1 columna, primera posición\n",
        "  plt.title('Cumulative reward')\n",
        "  plt.plot(t, r, label='Reward', color='blue')\n",
        "  plt.grid(True)\n",
        "\n",
        "\n",
        "  plt.tight_layout()\n",
        "  plt.show()"
      ],
      "metadata": {
        "id": "MP8IPVyMRjdj"
      },
      "execution_count": 26,
      "outputs": []
    },
    {
      "cell_type": "code",
      "source": [
        "# Hyperparameters.\n",
        "\n",
        "epsilon = 0\n",
        "cur_frame = 0\n",
        "time = 0\n",
        "\n",
        "last_100_ep_rewards = []   ###########################################\n",
        "state = np.array([0., 0., 0., 0., 0., 0.]).astype(np.float32)\n",
        "matrix_info = np.concatenate((state, [time], [0]))\n",
        "ep_reward, done = 0, False\n",
        "\n",
        "while not done and cur_frame < 1000:\n",
        "  state_in = torch.from_numpy(np.expand_dims(state, axis=0)).to(device)\n",
        "  action = select_epsilon_greedy_action(state_in, epsilon)\n",
        "  next_state, reward, done = environment(state, action)\n",
        "  next_state = next_state.astype(np.float32)\n",
        "  ep_reward += reward\n",
        "  time = deltaT * cur_frame\n",
        "\n",
        "  matrix_info = np.vstack([matrix_info, np.concatenate((state, [time], [ep_reward]))])\n",
        "\n",
        "  state = next_state\n",
        "  cur_frame += 1\n",
        "\n",
        "\n",
        "plot_traj(matrix_info)"
      ],
      "metadata": {
        "colab": {
          "base_uri": "https://localhost:8080/",
          "height": 486
        },
        "id": "0Y-S3AJKPHWr",
        "outputId": "7b5cd91d-05bc-46cf-9d9d-cabf23156834"
      },
      "execution_count": 27,
      "outputs": [
        {
          "output_type": "display_data",
          "data": {
            "text/plain": [
              "<Figure size 640x480 with 4 Axes>"
            ],
            "image/png": "[encoded data removed]"
          },
          "metadata": {}
        }
      ]
    }
  ]
}