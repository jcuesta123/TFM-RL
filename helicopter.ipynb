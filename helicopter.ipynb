{
  "nbformat": 4,
  "nbformat_minor": 0,
  "metadata": {
    "colab": {
      "provenance": [],
      "authorship_tag": "ABX9TyNjPuw3CU9DwMp/IzesA32W",
      "include_colab_link": true
    },
    "kernelspec": {
      "name": "python3",
      "display_name": "Python 3"
    },
    "language_info": {
      "name": "python"
    }
  },
  "cells": [
    {
      "cell_type": "markdown",
      "metadata": {
        "id": "view-in-github",
        "colab_type": "text"
      },
      "source": [
        "<a href=\"https://colab.research.google.com/github/jcuesta123/TFM-RL/blob/main/helicopter.ipynb\" target=\"_parent\"><img src=\"https://colab.research.google.com/assets/colab-badge.svg\" alt=\"Open In Colab\"/></a>"
      ]
    },
    {
      "cell_type": "markdown",
      "source": [
        "First approach of the code of helicopter"
      ],
      "metadata": {
        "id": "q-ZS1Fks2Pi9"
      }
    },
    {
      "cell_type": "code",
      "source": [
        "import numpy as np\n",
        "import math\n",
        "import random\n",
        "import matplotlib.pyplot as plt\n"
      ],
      "metadata": {
        "id": "37ZmWrHJ2hhc"
      },
      "execution_count": null,
      "outputs": []
    },
    {
      "cell_type": "code",
      "source": [
        "import torch\n",
        "import torch.nn as nn\n",
        "import torch.nn.functional as F"
      ],
      "metadata": {
        "id": "BeYcFPRoZgrj"
      },
      "execution_count": null,
      "outputs": []
    },
    {
      "cell_type": "code",
      "source": [
        "#Usar GPU\n",
        "device = torch.device(\"cuda\" if torch.cuda.is_available() else \"cpu\")\n",
        "print(device)"
      ],
      "metadata": {
        "colab": {
          "base_uri": "https://localhost:8080/"
        },
        "id": "7B_6-IJxPOCH",
        "outputId": "d226edc1-6d69-4afa-b79f-d413c1143eff"
      },
      "execution_count": null,
      "outputs": [
        {
          "output_type": "stream",
          "name": "stdout",
          "text": [
            "cpu\n"
          ]
        }
      ]
    },
    {
      "cell_type": "code",
      "source": [
        "#helicopter parameters\n",
        "g = 10\n",
        "m_h = 1\n",
        "deltaT = 0.1"
      ],
      "metadata": {
        "id": "4n-IZWV23xbG"
      },
      "execution_count": null,
      "outputs": []
    },
    {
      "cell_type": "code",
      "source": [
        "max_action_space = np.array([2*m_h*g, math.pi/4])\n",
        "min_action_space = np.array([0, -math.pi/4])\n",
        "print(max_action_space, ' -->  Max Traction (N) and max angle (rad)')\n",
        "print(min_action_space, ' -->  Min Traction (N) and min angle (rad)')"
      ],
      "metadata": {
        "colab": {
          "base_uri": "https://localhost:8080/"
        },
        "id": "0C7HXWtyM7fh",
        "outputId": "fde5c77c-9408-4b62-8800-eb01ced8d630"
      },
      "execution_count": null,
      "outputs": [
        {
          "output_type": "stream",
          "name": "stdout",
          "text": [
            "[20.          0.78539816]  -->  Max Traction (N) and max angle (rad)\n",
            "[ 0.         -0.78539816]  -->  Min Traction (N) and min angle (rad)\n"
          ]
        }
      ]
    },
    {
      "cell_type": "code",
      "source": [
        "observation_space = np.array([0., 0., 0., 0., True, False])\n",
        "print(observation_space, ' -->  x, y, v_x, v_y, floor_contact, lateral_contact')"
      ],
      "metadata": {
        "colab": {
          "base_uri": "https://localhost:8080/"
        },
        "id": "Lu2PK6p5SQnL",
        "outputId": "6405f87f-04b2-444b-ea45-da0db16e9cac"
      },
      "execution_count": null,
      "outputs": [
        {
          "output_type": "stream",
          "name": "stdout",
          "text": [
            "[0. 0. 0. 0. 1. 0.]  -->  x, y, v_x, v_y, floor_contact, lateral_contact\n"
          ]
        }
      ]
    },
    {
      "cell_type": "code",
      "source": [
        "\n",
        "'''\n",
        "# ACTION\n",
        "#to make it more realistic, it only can vary its controls  smoothly, through some discrete levels, so that's the reasonof (previous) command input\n",
        "def select_action(state, command):\n",
        "\n",
        "  command = np.array(command)\n",
        "  new_command = command + np.random.randint(-1, 2, size=2) * max_action_space/10  #OJO ese 3 debería ser 2, cambiarlo\n",
        "\n",
        "  if new_command[0] > 2*m_h*g or new_command[0] < 0:\n",
        "    new_command[0] = command[0]\n",
        "\n",
        "  if new_command[1] > math.pi/4 or new_command[1] < -math.pi/4:\n",
        "    new_command[1] = command[1]\n",
        "\n",
        "\n",
        "  return new_command\n",
        "  '''"
      ],
      "metadata": {
        "id": "2h8Lhv2I2Kin"
      },
      "execution_count": null,
      "outputs": []
    },
    {
      "cell_type": "code",
      "source": [
        "# ACTION\n",
        "#to make it more realistic, it only can vary its controls  smoothly, through some discrete levels, so that's the reasonof (previous) command input\n",
        "def select_action(state, command):\n",
        "\n",
        "  epsilon = 0.5\n",
        "  action_number = 0\n",
        "  command = np.array(command)\n",
        "\n",
        "  result = np.random.uniform()\n",
        "  if result < epsilon:\n",
        "    action_number = random.randint(1, 5)\n",
        "  else:\n",
        "    action_number = random.randint(1, 5)  #action_number = np.argmax(main_nn(torch.tensor(state).unsqueeze(0)).cpu().data.numpy()) #########OJOOOOOOOOOOO\n",
        "\n",
        "  if action_number == 1:\n",
        "    new_command = command\n",
        "  elif action_number == 2:\n",
        "    new_command = command + max_action_space/10 * np.array([1, 0])\n",
        "  elif action_number == 3:\n",
        "    new_command = command + max_action_space/10 * np.array([-1, 0])\n",
        "  elif action_number == 4:\n",
        "    new_command = command + max_action_space/10 * np.array([0, 1])\n",
        "  else: # action_number == 5:\n",
        "    new_command = command + max_action_space/10 * np.array([0, -1])\n",
        "\n",
        "  if new_command[0] > 2*m_h*g or new_command[0] < 0:\n",
        "    new_command[0] = command[0]\n",
        "  if new_command[1] > math.pi/4 or new_command[1] < -math.pi/4:\n",
        "    new_command[1] = command[1]\n",
        "\n",
        "  return new_command"
      ],
      "metadata": {
        "id": "ym_dwMRxtecN"
      },
      "execution_count": null,
      "outputs": []
    },
    {
      "cell_type": "code",
      "source": [
        "torch.tensor(state).unsqueeze(0)"
      ],
      "metadata": {
        "colab": {
          "base_uri": "https://localhost:8080/"
        },
        "id": "0TQPpWAbP1yu",
        "outputId": "a535bd01-fa47-47b3-9e5a-633446013306"
      },
      "execution_count": null,
      "outputs": [
        {
          "output_type": "execute_result",
          "data": {
            "text/plain": [
              "tensor([[0., 0., 0., 0., 1., 0.]], dtype=torch.float64)"
            ]
          },
          "metadata": {},
          "execution_count": 108
        }
      ]
    },
    {
      "cell_type": "code",
      "source": [
        "max_action_space/10 + max_action_space/10 * np.array([0, 0])"
      ],
      "metadata": {
        "colab": {
          "base_uri": "https://localhost:8080/"
        },
        "id": "UiYI4QXTuGaE",
        "outputId": "17c0b04e-4879-4a3d-9bcd-f407f6283d31"
      },
      "execution_count": null,
      "outputs": [
        {
          "output_type": "execute_result",
          "data": {
            "text/plain": [
              "array([2.        , 0.07853982])"
            ]
          },
          "metadata": {},
          "execution_count": 55
        }
      ]
    },
    {
      "cell_type": "code",
      "source": [
        "#environment, based on pyhsics, num. computation and conditionals\n",
        "def environment(state, command):\n",
        "\n",
        "  crash = False\n",
        "  #Situation\n",
        "  #On ground - in flight\n",
        "  if state[1] < 0.01:\n",
        "    state[4] = True\n",
        "    if state[3] < -3:\n",
        "      crash = True\n",
        "  else:\n",
        "    state[4] = False\n",
        "\n",
        "  #Mechanics\n",
        "  #Forces\n",
        "  a_x = command[0]*math.sin(command[1])/m_h\n",
        "  a_y = command[0]*math.cos(command[1])/m_h - g\n",
        "\n",
        "  #Velocities\n",
        "  state[2] = state[2] + deltaT*a_x\n",
        "  state[3] = state[3] + deltaT*a_y\n",
        "\n",
        "  #Positions\n",
        "  state[0] = state[0] + deltaT*state[2]\n",
        "  state[1] = state[1] + deltaT*state[3]\n",
        "\n",
        "  if state[4] == True and command[0]*math.cos(command[1]) < m_h*g:\n",
        "    a_x = 0.      #considered friction equals to traction x cos\n",
        "    a_y = 0.\n",
        "    state[1] = 0.\n",
        "    state[2] = 0.\n",
        "    state[3] = 0.\n",
        "\n",
        "  reward = reward_function()\n",
        "\n",
        "  return state, reward, crash"
      ],
      "metadata": {
        "id": "r6vsrqN78YQi"
      },
      "execution_count": null,
      "outputs": []
    },
    {
      "cell_type": "code",
      "source": [
        "def reward_function():\n",
        "\n",
        "  reward = 51 - math.sqrt((dest[0]-state[0])**2+(dest[1]-state[1])**2)\n",
        "\n",
        "  return reward"
      ],
      "metadata": {
        "id": "GE8zDzkf7qWa"
      },
      "execution_count": null,
      "outputs": []
    },
    {
      "cell_type": "code",
      "source": [
        "# MAIN LOOP\n",
        "\n",
        "dest = np.array([50, 10])\n",
        "total_reward = 0\n",
        "state = np.array([0., 0., 0., 0., True, False])\n",
        "command = np.array([0, 0])\n",
        "matrix_state = observation_space\n",
        "\n",
        "for i in range(1000):  #if deltaT = 0.1 sec -> simulation represents up to 100 sec\n",
        "\n",
        "  action = select_action(state, command)            # STEP 1 -> choose ACTION\n",
        "  command = action                                  # recording command for next action\n",
        "\n",
        "  state, reward, crash = environment(state, action)       # STEP 2 -> process ENVIRONMENT\n",
        "  matrix_state = np.vstack([matrix_state, state])\n",
        "\n",
        "  total_reward += reward                            # add or substract reward to total\n",
        "\n",
        "  if crash == True:\n",
        "    print('++++++++++++++++++++++++++++++++++++++++++++++++++++++++++++++++++++++++++++++++++++++++')\n",
        "    print('Helicopter crashed at iteration ',i)\n",
        "    break\n",
        "\n",
        "  if dest[0]-1 < state[0] < dest[0]+1 and dest[1]-1 < state[1] < dest[1]+1:  #OJO implementarlo bien\n",
        "    print('++++++++++++++++++++++++++++++++++++++++++++++++++++++++++++++++++++++++++++++++++++++++')\n",
        "    print('Helicopter reached destination at iteration ',i)\n",
        "    break\n",
        "\n",
        "\n",
        "  if i % 10 == 0:\n",
        "    print('i=', i, '   x, y= ', np.round(state[0],2), np.round(state[1],2), '   Vx, Vy= ', np.round(state[2],2), np.round(state[3],2),';    on ground: ', \\\n",
        "          bool(state[4]), ';F=', np.round(command[0]*math.cos(command[1])/m_h - g,2), np.round(total_reward,1))\n",
        "\n"
      ],
      "metadata": {
        "colab": {
          "base_uri": "https://localhost:8080/"
        },
        "id": "gqGxq6ntdyE2",
        "outputId": "d39d9455-343b-4a38-aa49-ed8cebd133f9"
      },
      "execution_count": null,
      "outputs": [
        {
          "output_type": "stream",
          "name": "stdout",
          "text": [
            "i= 0    x, y=  0.0 0.0    Vx, Vy=  0.0 0.0 ;    on ground:  True ;F= -10.0 0.0\n",
            "i= 10    x, y=  0.01 0.0    Vx, Vy=  0.0 0.0 ;    on ground:  True ;F= -6.05 0.1\n",
            "i= 20    x, y=  0.05 0.0    Vx, Vy=  0.0 0.0 ;    on ground:  True ;F= -10.0 0.5\n",
            "i= 30    x, y=  0.06 0.0    Vx, Vy=  0.0 0.0 ;    on ground:  True ;F= -10.0 1.2\n",
            "i= 40    x, y=  0.07 0.0    Vx, Vy=  0.0 0.0 ;    on ground:  True ;F= -6.01 1.9\n",
            "i= 50    x, y=  0.05 0.0    Vx, Vy=  0.0 0.0 ;    on ground:  True ;F= -2.02 2.7\n",
            "i= 60    x, y=  -0.42 0.0    Vx, Vy=  0.0 0.0 ;    on ground:  True ;F= -2.39 1.3\n",
            "i= 70    x, y=  -0.89 0.05    Vx, Vy=  -1.3 0.14 ;    on ground:  False ;F= -0.76 -4.5\n",
            "i= 80    x, y=  -2.5 0.0    Vx, Vy=  0.0 0.0 ;    on ground:  True ;F= -4.17 -24.1\n",
            "i= 90    x, y=  -2.55 0.0    Vx, Vy=  0.0 0.0 ;    on ground:  True ;F= -10.0 -48.9\n",
            "i= 100    x, y=  -2.56 0.0    Vx, Vy=  0.0 0.0 ;    on ground:  True ;F= -4.02 -74.0\n",
            "i= 110    x, y=  -2.5 0.0    Vx, Vy=  0.0 0.0 ;    on ground:  True ;F= -4.17 -98.8\n",
            "i= 120    x, y=  -2.37 0.0    Vx, Vy=  0.0 0.0 ;    on ground:  True ;F= -6.01 -122.5\n",
            "i= 130    x, y=  -2.4 0.0    Vx, Vy=  0.0 0.0 ;    on ground:  True ;F= -4.0 -145.8\n",
            "i= 140    x, y=  -2.33 0.0    Vx, Vy=  0.0 0.0 ;    on ground:  True ;F= -0.12 -169.0\n",
            "i= 150    x, y=  -1.77 0.75    Vx, Vy=  1.59 1.83 ;    on ground:  False ;F= 1.41 -189.6\n",
            "i= 160    x, y=  2.66 2.05    Vx, Vy=  7.3 0.41 ;    on ground:  False ;F= -2.93 -184.8\n",
            "i= 170    x, y=  13.89 1.05    Vx, Vy=  14.97 -1.71 ;    on ground:  False ;F= -0.1 -101.0\n",
            "i= 180    x, y=  27.07 0.0    Vx, Vy=  0.0 0.0 ;    on ground:  True ;F= -2.93 119.1\n",
            "i= 190    x, y=  27.76 0.0    Vx, Vy=  0.0 0.0 ;    on ground:  True ;F= -1.51 382.3\n",
            "i= 200    x, y=  28.34 0.0    Vx, Vy=  0.0 0.0 ;    on ground:  True ;F= -5.76 651.6\n",
            "i= 210    x, y=  28.89 0.0    Vx, Vy=  0.0 0.0 ;    on ground:  True ;F= -5.76 925.9\n",
            "i= 220    x, y=  29.08 0.0    Vx, Vy=  0.0 0.0 ;    on ground:  True ;F= -10.0 1203.4\n",
            "i= 230    x, y=  29.38 0.0    Vx, Vy=  0.0 0.0 ;    on ground:  True ;F= -4.34 1482.5\n",
            "i= 240    x, y=  29.68 0.0    Vx, Vy=  0.0 0.0 ;    on ground:  True ;F= -8.38 1765.2\n",
            "i= 250    x, y=  29.76 0.0    Vx, Vy=  0.0 0.0 ;    on ground:  True ;F= -10.0 2049.2\n",
            "i= 260    x, y=  29.78 0.0    Vx, Vy=  0.0 0.0 ;    on ground:  True ;F= -10.0 2333.6\n",
            "i= 270    x, y=  29.93 0.0    Vx, Vy=  0.0 0.0 ;    on ground:  True ;F= -6.96 2618.5\n",
            "i= 280    x, y=  30.17 0.0    Vx, Vy=  0.0 0.0 ;    on ground:  True ;F= -6.2 2905.5\n",
            "i= 290    x, y=  30.47 0.0    Vx, Vy=  0.0 0.0 ;    on ground:  True ;F= -3.18 3194.7\n",
            "i= 300    x, y=  30.81 0.0    Vx, Vy=  0.0 0.0 ;    on ground:  True ;F= -6.59 3487.1\n",
            "i= 310    x, y=  30.9 0.0    Vx, Vy=  0.0 0.0 ;    on ground:  True ;F= -8.15 3781.4\n",
            "i= 320    x, y=  31.02 0.0    Vx, Vy=  0.0 0.0 ;    on ground:  True ;F= -6.44 4076.3\n",
            "i= 330    x, y=  31.26 0.0    Vx, Vy=  0.0 0.0 ;    on ground:  True ;F= -4.46 4372.9\n",
            "i= 340    x, y=  31.51 0.0    Vx, Vy=  0.0 0.0 ;    on ground:  True ;F= -6.44 4671.7\n",
            "i= 350    x, y=  31.67 0.0    Vx, Vy=  0.0 0.0 ;    on ground:  True ;F= -8.22 4972.4\n",
            "i= 360    x, y=  31.72 0.0    Vx, Vy=  0.0 0.0 ;    on ground:  True ;F= -10.0 5273.9\n",
            "i= 370    x, y=  31.73 0.0    Vx, Vy=  0.0 0.0 ;    on ground:  True ;F= -10.0 5575.5\n",
            "i= 380    x, y=  31.74 0.0    Vx, Vy=  0.0 0.0 ;    on ground:  True ;F= -10.0 5877.3\n",
            "i= 390    x, y=  31.77 0.0    Vx, Vy=  0.0 0.0 ;    on ground:  True ;F= -8.29 6179.3\n",
            "i= 400    x, y=  32.04 0.0    Vx, Vy=  0.0 0.0 ;    on ground:  True ;F= -2.87 6482.6\n",
            "i= 410    x, y=  32.52 0.02    Vx, Vy=  1.0 0.18 ;    on ground:  True ;F= 1.09 6788.9\n",
            "i= 420    x, y=  34.44 0.0    Vx, Vy=  0.0 0.0 ;    on ground:  True ;F= -6.3 7107.7\n",
            "i= 430    x, y=  34.56 0.0    Vx, Vy=  0.0 0.0 ;    on ground:  True ;F= -8.06 7433.4\n",
            "i= 440    x, y=  34.64 0.0    Vx, Vy=  0.0 0.0 ;    on ground:  True ;F= -6.05 7759.8\n",
            "i= 450    x, y=  34.64 0.0    Vx, Vy=  0.0 0.0 ;    on ground:  True ;F= -10.0 8086.5\n",
            "i= 460    x, y=  34.64 0.0    Vx, Vy=  0.0 0.0 ;    on ground:  True ;F= -10.0 8413.3\n",
            "i= 470    x, y=  34.71 0.0    Vx, Vy=  0.0 0.0 ;    on ground:  True ;F= -6.44 8740.2\n",
            "i= 480    x, y=  34.97 0.0    Vx, Vy=  0.63 0.02 ;    on ground:  True ;F= 0.23 9068.2\n",
            "i= 490    x, y=  37.01 0.74    Vx, Vy=  3.84 1.85 ;    on ground:  False ;F= 3.61 9405.6\n",
            "i= 500    x, y=  42.38 3.77    Vx, Vy=  6.72 4.72 ;    on ground:  False ;F= 3.83 9786.2\n",
            "++++++++++++++++++++++++++++++++++++++++++++++++++++++++++++++++++++++++++++++++++++++++\n",
            "Helicopter reached destination at iteration  510\n"
          ]
        }
      ]
    },
    {
      "cell_type": "code",
      "source": [
        "#PRINT TRAJECTORY\n",
        "\n",
        "x = matrix_state[:, 0]\n",
        "y = matrix_state[:, 1]\n",
        "\n",
        "v_x = matrix_state[:, 2]\n",
        "v_y = matrix_state[:, 3]\n",
        "\n",
        "\n",
        "plt.subplot(2, 1, 1)  # 2 filas, 1 columna, primera posición\n",
        "plt.plot(x, y)  # 'r--' indica línea roja discontinua\n",
        "plt.scatter(dest[0],dest[1])\n",
        "plt.title('Trayectory (m)')\n",
        "plt.xlabel('Axis X')\n",
        "plt.ylabel('Axis Y')\n",
        "plt.axhline(0, color='black', linewidth=0.5)\n",
        "plt.axvline(0, color='black', linewidth=0.5)\n",
        "\n",
        "plt.subplot(2, 1, 2)  # 2 filas, 1 columna, primera posición\n",
        "plt.plot(v_x, v_y,'-.')  # 'r--' indica línea roja discontinua\n",
        "plt.title('Velocities (m/s)')\n",
        "plt.grid(True)\n",
        "\n",
        "plt.tight_layout()\n",
        "plt.show()"
      ],
      "metadata": {
        "colab": {
          "base_uri": "https://localhost:8080/",
          "height": 486
        },
        "id": "07JrX0oputmf",
        "outputId": "0e1f55b4-d791-45b7-fcac-1fadbe22f362"
      },
      "execution_count": null,
      "outputs": [
        {
          "output_type": "display_data",
          "data": {
            "text/plain": [
              "<Figure size 640x480 with 2 Axes>"
            ],
            "image/png": "[encoded data removed]"
          },
          "metadata": {}
        }
      ]
    },
    {
      "cell_type": "code",
      "source": [
        "num_actions = 5 # no changes, less/more traction, left/right steer\n",
        "num_features = 6  # x,y,vx,vy,floor/lateral contact"
      ],
      "metadata": {
        "id": "_3y2rUGOaHB7"
      },
      "execution_count": null,
      "outputs": []
    },
    {
      "cell_type": "code",
      "source": [
        "class DQN(nn.Module):\n",
        "    \"\"\"Dense neural network class.\"\"\"\n",
        "    def __init__(self, num_inputs, num_actions):\n",
        "        super(DQN, self).__init__()\n",
        "        self.fc1 = nn.Linear(num_inputs, 32)\n",
        "        self.fc2 = nn.Linear(32, 32)\n",
        "        self.out = nn.Linear(32, num_actions)\n",
        "\n",
        "    def forward(self, states):\n",
        "        \"\"\"Forward pass.\"\"\"\n",
        "        x = F.relu(self.fc1(states))\n",
        "        x = F.relu(self.fc2(x))\n",
        "        return self.out(x)\n",
        "\n",
        "main_nn = DQN(num_features, num_actions).to(device)   #para meter GPU\n",
        "target_nn = DQN(num_features, num_actions).to(device)\n",
        "\n",
        "optimizer = torch.optim.Adam(main_nn.parameters(), lr=1e-4)\n",
        "loss_fn = nn.MSELoss()"
      ],
      "metadata": {
        "id": "tnNyJo-MZuUD"
      },
      "execution_count": null,
      "outputs": []
    }
  ]
}