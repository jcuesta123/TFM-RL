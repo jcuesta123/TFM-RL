{
  "nbformat": 4,
  "nbformat_minor": 0,
  "metadata": {
    "colab": {
      "provenance": [],
      "authorship_tag": "ABX9TyMP9bcwSZs0bfTco5x3Ykem",
      "include_colab_link": true
    },
    "kernelspec": {
      "name": "python3",
      "display_name": "Python 3"
    },
    "language_info": {
      "name": "python"
    }
  },
  "cells": [
    {
      "cell_type": "markdown",
      "metadata": {
        "id": "view-in-github",
        "colab_type": "text"
      },
      "source": [
        "<a href=\"https://colab.research.google.com/github/jcuesta123/TFM-RL/blob/main/helicopter.ipynb\" target=\"_parent\"><img src=\"https://colab.research.google.com/assets/colab-badge.svg\" alt=\"Open In Colab\"/></a>"
      ]
    },
    {
      "cell_type": "markdown",
      "source": [
        "First approach of the code of helicopter"
      ],
      "metadata": {
        "id": "q-ZS1Fks2Pi9"
      }
    },
    {
      "cell_type": "code",
      "source": [
        "import numpy as np\n",
        "import math\n",
        "import random\n",
        "import matplotlib.pyplot as plt\n",
        "\n",
        "import torch\n",
        "import torch.nn as nn\n",
        "import torch.nn.functional as F\n"
      ],
      "metadata": {
        "id": "37ZmWrHJ2hhc"
      },
      "execution_count": 1,
      "outputs": []
    },
    {
      "cell_type": "code",
      "source": [
        "#helicopter parameters\n",
        "g = 10\n",
        "m_h = 1\n",
        "deltaT = 0.1\n",
        "\n",
        "max_action_space = np.array([2*m_h*g, math.pi/4])\n",
        "min_action_space = np.array([0, -math.pi/4])\n",
        "observation_space = np.array([0., 0., 0., 0., 1, 0])\n",
        "\n",
        "print(max_action_space, ' -->  Max Traction (N) and max angle (rad)')\n",
        "print(min_action_space, ' -->  Min Traction (N) and min angle (rad)')\n",
        "print(observation_space, ' -->  x, y, v_x, v_y, floor_contact, lateral_contact')"
      ],
      "metadata": {
        "colab": {
          "base_uri": "https://localhost:8080/"
        },
        "id": "0C7HXWtyM7fh",
        "outputId": "fbf950b2-355f-4e73-d7ba-2fd0ea5cc86d"
      },
      "execution_count": 5,
      "outputs": [
        {
          "output_type": "stream",
          "name": "stdout",
          "text": [
            "[20.          0.78539816]  -->  Max Traction (N) and max angle (rad)\n",
            "[ 0.         -0.78539816]  -->  Min Traction (N) and min angle (rad)\n",
            "[0. 0. 0. 0. 1. 0.]  -->  x, y, v_x, v_y, floor_contact, lateral_contact\n"
          ]
        }
      ]
    },
    {
      "cell_type": "code",
      "source": [
        "# ACTION\n",
        "#to make it more realistic, it only can vary its controls  smoothly, through some discrete levels, so that's the reasonof (previous) command input\n",
        "def select_action(state, command):\n",
        "\n",
        "  epsilon = 0.5\n",
        "  action_number = 0\n",
        "  command = np.array(command)\n",
        "\n",
        "  result = np.random.uniform()\n",
        "  if result < epsilon:\n",
        "    action_number = random.randint(1, 5)\n",
        "  else:\n",
        "    #qs = main_nn(state).cpu().data.numpy()\n",
        "    #action_number = np.argmax(qs)\n",
        "    action_number = random.randint(1, 5)  #action_number = np.argmax(main_nn(torch.tensor(state).unsqueeze(0)).cpu().data.numpy()) #########OJOOOOOOOOOOO\n",
        "\n",
        "  if action_number == 1:\n",
        "    new_command = command\n",
        "  elif action_number == 2:\n",
        "    new_command = command + max_action_space/10 * np.array([1, 0])\n",
        "  elif action_number == 3:\n",
        "    new_command = command + max_action_space/10 * np.array([-1, 0])\n",
        "  elif action_number == 4:\n",
        "    new_command = command + max_action_space/10 * np.array([0, 1])\n",
        "  else: # action_number == 5:\n",
        "    new_command = command + max_action_space/10 * np.array([0, -1])\n",
        "\n",
        "  if new_command[0] > 2*m_h*g or new_command[0] < 0:\n",
        "    new_command[0] = command[0]\n",
        "  if new_command[1] > math.pi/4 or new_command[1] < -math.pi/4:\n",
        "    new_command[1] = command[1]\n",
        "\n",
        "  return new_command"
      ],
      "metadata": {
        "id": "ym_dwMRxtecN"
      },
      "execution_count": 6,
      "outputs": []
    },
    {
      "cell_type": "code",
      "source": [
        "print(torch.from_numpy(np.expand_dims(state, axis=0)).to(device))"
      ],
      "metadata": {
        "colab": {
          "base_uri": "https://localhost:8080/"
        },
        "id": "A-Es5M2mJVVN",
        "outputId": "1ce99b9c-8b2e-4000-b43a-2eaaf4df6715"
      },
      "execution_count": null,
      "outputs": [
        {
          "output_type": "stream",
          "name": "stdout",
          "text": [
            "tensor([[-0.1386,  0.0000,  0.0000,  0.0000,  1.0000,  0.0000]],\n",
            "       dtype=torch.float64)\n"
          ]
        }
      ]
    },
    {
      "cell_type": "code",
      "source": [
        "max_action_space/10 + max_action_space/10 * np.array([0, 0])"
      ],
      "metadata": {
        "colab": {
          "base_uri": "https://localhost:8080/"
        },
        "id": "UiYI4QXTuGaE",
        "outputId": "1b6658eb-a382-431b-fdb3-926843403ce8"
      },
      "execution_count": 7,
      "outputs": [
        {
          "output_type": "execute_result",
          "data": {
            "text/plain": [
              "array([2.        , 0.07853982])"
            ]
          },
          "metadata": {},
          "execution_count": 7
        }
      ]
    },
    {
      "cell_type": "code",
      "source": [
        "#environment, based on pyhsics, num. computation and conditionals\n",
        "def environment(state, command):\n",
        "\n",
        "  crash = False\n",
        "  #Situation\n",
        "  #On ground - in flight\n",
        "  if state[1] < 0.01:\n",
        "    state[4] = 1.\n",
        "    if state[3] < -3:\n",
        "      crash = True\n",
        "  else:\n",
        "    state[4] = 0.\n",
        "\n",
        "  #Mechanics\n",
        "  #Forces\n",
        "  a_x = command[0]*math.sin(command[1])/m_h\n",
        "  a_y = command[0]*math.cos(command[1])/m_h - g\n",
        "\n",
        "  #Velocities\n",
        "  state[2] = state[2] + deltaT*a_x\n",
        "  state[3] = state[3] + deltaT*a_y\n",
        "\n",
        "  #Positions\n",
        "  state[0] = state[0] + deltaT*state[2]\n",
        "  state[1] = state[1] + deltaT*state[3]\n",
        "\n",
        "  if state[4] == 1. and command[0]*math.cos(command[1]) < m_h*g:\n",
        "    a_x = 0.      #considered friction equals to traction x cos\n",
        "    a_y = 0.\n",
        "    state[1] = 0.\n",
        "    state[2] = 0.\n",
        "    state[3] = 0.\n",
        "\n",
        "  reward = reward_function()\n",
        "\n",
        "  return state, reward, crash\n",
        "\n",
        "def reward_function():\n",
        "\n",
        "  reward = 51 - math.sqrt((dest[0]-state[0])**2+(dest[1]-state[1])**2)\n",
        "\n",
        "  return reward"
      ],
      "metadata": {
        "id": "r6vsrqN78YQi"
      },
      "execution_count": 10,
      "outputs": []
    },
    {
      "cell_type": "code",
      "source": [
        "# MAIN LOOP\n",
        "\n",
        "dest = np.array([50, 10])\n",
        "total_reward = 0\n",
        "state = np.array([0., 0., 0., 0., 1., 0.])\n",
        "command = np.array([0, 0])\n",
        "matrix_state = observation_space\n",
        "\n",
        "for i in range(1000):  #if deltaT = 0.1 sec -> simulation represents up to 100 sec\n",
        "\n",
        "  state_in = torch.from_numpy(np.expand_dims(state, axis=0)).to(device)\n",
        "\n",
        "  action = select_action(state_in, command)            # STEP 1 -> choose ACTION\n",
        "  command = action                                  # recording command for next action\n",
        "\n",
        "  state, reward, crash = environment(state, action)       # STEP 2 -> process ENVIRONMENT\n",
        "  matrix_state = np.vstack([matrix_state, state])\n",
        "\n",
        "  total_reward += reward                            # add or substract reward to total\n",
        "\n",
        "  if crash == True:\n",
        "    print('++++++++++++++++++++++++++++++++++++++++++++++++++++++++++++++++++++++++++++++++++++++++')\n",
        "    print('Helicopter crashed at iteration ',i)\n",
        "    break\n",
        "\n",
        "  if dest[0]-1 < state[0] < dest[0]+1 and dest[1]-1 < state[1] < dest[1]+1:  #OJO implementarlo bien\n",
        "    print('++++++++++++++++++++++++++++++++++++++++++++++++++++++++++++++++++++++++++++++++++++++++')\n",
        "    print('Helicopter reached destination at iteration ',i)\n",
        "    break\n",
        "\n",
        "\n",
        "  if i % 10 == 0:\n",
        "    print('i=', i, '   x, y= ', np.round(state[0],2), np.round(state[1],2), '   Vx, Vy= ', np.round(state[2],2), np.round(state[3],2),';    on ground: ', \\\n",
        "          bool(state[4]), ';F=', np.round(command[0]*math.cos(command[1])/m_h - g,2), np.round(total_reward,1))\n",
        "\n"
      ],
      "metadata": {
        "colab": {
          "base_uri": "https://localhost:8080/"
        },
        "id": "gqGxq6ntdyE2",
        "outputId": "fa28379a-4294-4aab-f69c-2adf945ac652"
      },
      "execution_count": 12,
      "outputs": [
        {
          "output_type": "stream",
          "name": "stdout",
          "text": [
            "i= 0    x, y=  0.0 0.0    Vx, Vy=  0.0 0.0 ;    on ground:  True ;F= -10.0 0.0\n",
            "i= 10    x, y=  0.02 0.0    Vx, Vy=  0.0 0.0 ;    on ground:  True ;F= -6.11 0.1\n",
            "i= 20    x, y=  0.12 0.0    Vx, Vy=  0.0 0.0 ;    on ground:  True ;F= -6.01 1.1\n",
            "i= 30    x, y=  0.25 0.0    Vx, Vy=  0.0 0.0 ;    on ground:  True ;F= -4.07 3.0\n",
            "i= 40    x, y=  0.33 0.0    Vx, Vy=  0.0 0.0 ;    on ground:  True ;F= -6.05 5.9\n",
            "i= 50    x, y=  0.35 0.0    Vx, Vy=  0.0 0.0 ;    on ground:  True ;F= -10.0 9.4\n",
            "i= 60    x, y=  0.35 0.0    Vx, Vy=  0.0 0.0 ;    on ground:  True ;F= -10.0 12.9\n",
            "i= 70    x, y=  0.39 0.0    Vx, Vy=  0.0 0.0 ;    on ground:  True ;F= -10.0 16.6\n",
            "i= 80    x, y=  0.54 0.0    Vx, Vy=  0.0 0.0 ;    on ground:  True ;F= -5.15 21.0\n",
            "i= 90    x, y=  0.98 0.0    Vx, Vy=  0.0 0.0 ;    on ground:  True ;F= -3.18 28.8\n",
            "i= 100    x, y=  1.24 0.0    Vx, Vy=  0.0 0.0 ;    on ground:  True ;F= -4.65 40.0\n",
            "i= 110    x, y=  1.61 0.0    Vx, Vy=  0.0 0.0 ;    on ground:  True ;F= -4.88 54.3\n",
            "i= 120    x, y=  1.99 0.0    Vx, Vy=  0.0 0.0 ;    on ground:  True ;F= -3.18 72.1\n",
            "i= 130    x, y=  2.43 0.0    Vx, Vy=  0.0 0.0 ;    on ground:  True ;F= -1.47 94.1\n",
            "i= 140    x, y=  2.81 0.0    Vx, Vy=  0.0 0.0 ;    on ground:  True ;F= -6.44 120.7\n",
            "i= 150    x, y=  3.1 0.0    Vx, Vy=  0.0 0.0 ;    on ground:  True ;F= -0.49 149.8\n",
            "i= 160    x, y=  4.7 0.46    Vx, Vy=  2.75 0.79 ;    on ground:  False ;F= 1.67 187.1\n",
            "i= 170    x, y=  8.96 1.72    Vx, Vy=  5.9 1.05 ;    on ground:  False ;F= -1.09 256.0\n",
            "i= 180    x, y=  17.76 1.75    Vx, Vy=  11.25 -1.25 ;    on ground:  False ;F= -4.34 390.6\n",
            "++++++++++++++++++++++++++++++++++++++++++++++++++++++++++++++++++++++++++++++++++++++++\n",
            "Helicopter crashed at iteration  188\n"
          ]
        }
      ]
    },
    {
      "cell_type": "code",
      "source": [
        "#PRINT TRAJECTORY\n",
        "\n",
        "x = matrix_state[:, 0]\n",
        "y = matrix_state[:, 1]\n",
        "\n",
        "v_x = matrix_state[:, 2]\n",
        "v_y = matrix_state[:, 3]\n",
        "\n",
        "\n",
        "plt.subplot(2, 1, 1)  # 2 filas, 1 columna, primera posición\n",
        "plt.plot(x, y)  # 'r--' indica línea roja discontinua\n",
        "plt.scatter(dest[0],dest[1])\n",
        "plt.title('Trayectory (m)')\n",
        "plt.xlabel('Axis X')\n",
        "plt.ylabel('Axis Y')\n",
        "plt.axhline(0, color='black', linewidth=0.5)\n",
        "plt.axvline(0, color='black', linewidth=0.5)\n",
        "\n",
        "plt.subplot(2, 1, 2)  # 2 filas, 1 columna, primera posición\n",
        "plt.plot(v_x, v_y,'-.')  # 'r--' indica línea roja discontinua\n",
        "plt.title('Velocities (m/s)')\n",
        "plt.grid(True)\n",
        "\n",
        "plt.tight_layout()\n",
        "plt.show()"
      ],
      "metadata": {
        "colab": {
          "base_uri": "https://localhost:8080/",
          "height": 486
        },
        "id": "07JrX0oputmf",
        "outputId": "b37cbe41-f59e-4a8b-cfd7-7257be9e57af"
      },
      "execution_count": 13,
      "outputs": [
        {
          "output_type": "display_data",
          "data": {
            "text/plain": [
              "<Figure size 640x480 with 2 Axes>"
            ],
            "image/png": "[encoded data removed]"
          },
          "metadata": {}
        }
      ]
    },
    {
      "cell_type": "code",
      "source": [
        "num_actions = 5 # no changes, less/more traction, left/right steer\n",
        "num_features = 6  # x,y,vx,vy,floor/lateral contact\n",
        "\n",
        "#Usar GPU\n",
        "device = torch.device(\"cuda\" if torch.cuda.is_available() else \"cpu\")\n",
        "print(device)\n",
        "\n",
        "class DQN(nn.Module):\n",
        "    \"\"\"Dense neural network class.\"\"\"\n",
        "    def __init__(self, num_inputs, num_actions):\n",
        "        super(DQN, self).__init__()\n",
        "        self.fc1 = nn.Linear(num_inputs, 32)\n",
        "        self.fc2 = nn.Linear(32, 32)\n",
        "        self.out = nn.Linear(32, num_actions)\n",
        "\n",
        "    def forward(self, states):\n",
        "        \"\"\"Forward pass.\"\"\"\n",
        "        x = F.relu(self.fc1(states))\n",
        "        x = F.relu(self.fc2(x))\n",
        "        return self.out(x)\n",
        "\n",
        "main_nn = DQN(num_features, num_actions).to(device)   #para meter GPU\n",
        "target_nn = DQN(num_features, num_actions).to(device)\n",
        "\n",
        "optimizer = torch.optim.Adam(main_nn.parameters(), lr=1e-4)\n",
        "loss_fn = nn.MSELoss()"
      ],
      "metadata": {
        "id": "tnNyJo-MZuUD",
        "colab": {
          "base_uri": "https://localhost:8080/"
        },
        "outputId": "f08a7ef5-c243-4360-e183-fd35d6a5a9cc"
      },
      "execution_count": 14,
      "outputs": [
        {
          "output_type": "stream",
          "name": "stdout",
          "text": [
            "cpu\n"
          ]
        }
      ]
    }
  ]
}