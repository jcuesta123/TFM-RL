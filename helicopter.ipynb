{
  "nbformat": 4,
  "nbformat_minor": 0,
  "metadata": {
    "colab": {
      "provenance": [],
      "authorship_tag": "ABX9TyPF7r/CkR079zmCMh9jBPf9",
      "include_colab_link": true
    },
    "kernelspec": {
      "name": "python3",
      "display_name": "Python 3"
    },
    "language_info": {
      "name": "python"
    }
  },
  "cells": [
    {
      "cell_type": "markdown",
      "metadata": {
        "id": "view-in-github",
        "colab_type": "text"
      },
      "source": [
        "<a href=\"https://colab.research.google.com/github/jcuesta123/TFM-RL/blob/main/helicopter.ipynb\" target=\"_parent\"><img src=\"https://colab.research.google.com/assets/colab-badge.svg\" alt=\"Open In Colab\"/></a>"
      ]
    },
    {
      "cell_type": "markdown",
      "source": [
        "First approach of the code of helicopter"
      ],
      "metadata": {
        "id": "q-ZS1Fks2Pi9"
      }
    },
    {
      "cell_type": "code",
      "source": [
        "import numpy as np\n",
        "import math\n",
        "import random\n"
      ],
      "metadata": {
        "id": "37ZmWrHJ2hhc"
      },
      "execution_count": 51,
      "outputs": []
    },
    {
      "cell_type": "code",
      "source": [
        "#helicopter parameters\n",
        "g = 10\n",
        "m_h = 1\n",
        "deltaT = 0.1"
      ],
      "metadata": {
        "id": "4n-IZWV23xbG"
      },
      "execution_count": 123,
      "outputs": []
    },
    {
      "cell_type": "code",
      "source": [
        "max_action_space = np.array([2*m_h*g, math.pi/4])\n",
        "min_action_space = np.array([0, -math.pi/4])\n",
        "print(max_action_space, ' -->  Max Traction (N) and max angle (rad)')\n",
        "print(min_action_space, ' -->  Min Traction (N) and min angle (rad)')"
      ],
      "metadata": {
        "colab": {
          "base_uri": "https://localhost:8080/"
        },
        "id": "0C7HXWtyM7fh",
        "outputId": "7d5cb984-d615-41d2-9564-dc74bc61b399"
      },
      "execution_count": 118,
      "outputs": [
        {
          "output_type": "stream",
          "name": "stdout",
          "text": [
            "[20.          0.78539816]  -->  Max Traction (N) and max angle (rad)\n",
            "[ 0.         -0.78539816]  -->  Min Traction (N) and min angle (rad)\n"
          ]
        }
      ]
    },
    {
      "cell_type": "code",
      "source": [
        "observation_space = np.array([0., 0., 0., 0., True, False])\n",
        "print(observation_space, ' -->  x, y, v_x, v_y, floor_contact, lateral_contact')"
      ],
      "metadata": {
        "colab": {
          "base_uri": "https://localhost:8080/"
        },
        "id": "Lu2PK6p5SQnL",
        "outputId": "aa0b6696-ab29-400b-b2ef-f883d503b4b8"
      },
      "execution_count": 147,
      "outputs": [
        {
          "output_type": "stream",
          "name": "stdout",
          "text": [
            "[0. 0. 0. 0. 1. 0.]  -->  x, y, v_x, v_y, floor_contact, lateral_contact\n"
          ]
        }
      ]
    },
    {
      "cell_type": "code",
      "source": [
        "#to make it more realistic, it only can vary its controls  smoothly, through some discrete levels\n",
        "def select_action(command):\n",
        "\n",
        "  command = np.array(command)\n",
        "  new_command = command + np.random.randint(-1, 2, size=2) * max_action_space/10\n",
        "\n",
        "  return new_command"
      ],
      "metadata": {
        "id": "2h8Lhv2I2Kin"
      },
      "execution_count": 102,
      "outputs": []
    },
    {
      "cell_type": "code",
      "source": [
        "#environment, based on pyhsics, num. computation and conditionals\n",
        "def environment(state, command):\n",
        "  #Forces\n",
        "  a_x = command[0]*math.sin(command[1])/m_h\n",
        "  a_y = command[0]*math.cos(command[1])/m_h - g\n",
        "\n",
        "  #Velocities\n",
        "  state[2] = state[2] + deltaT*a_x\n",
        "  state[3] = state[3] + deltaT*a_y\n",
        "\n",
        "  #Positions\n",
        "  state[0] = state[0] + deltaT*state[2]\n",
        "  state[1] = state[1] + deltaT*state[3]\n",
        "\n",
        "  #Contacts\n",
        "\n",
        "  reward = 1\n",
        "  return state, reward"
      ],
      "metadata": {
        "id": "-wh1k2vQRNLr"
      },
      "execution_count": 141,
      "outputs": []
    },
    {
      "cell_type": "code",
      "source": [
        "print(observation_space, max_action_space)\n",
        "print('-----------------------------------')\n",
        "environment(observation_space, max_action_space)"
      ],
      "metadata": {
        "colab": {
          "base_uri": "https://localhost:8080/"
        },
        "id": "j4e8Lw94U_qs",
        "outputId": "f9f40d73-5f92-400e-8a64-6939b9931a55"
      },
      "execution_count": 148,
      "outputs": [
        {
          "output_type": "stream",
          "name": "stdout",
          "text": [
            "[0. 0. 0. 0. 1. 0.] [20.          0.78539816]\n",
            "-----------------------------------\n"
          ]
        },
        {
          "output_type": "execute_result",
          "data": {
            "text/plain": [
              "(array([0.14142136, 0.04142136, 1.41421356, 0.41421356, 1.        ,\n",
              "        0.        ]),\n",
              " 1)"
            ]
          },
          "metadata": {},
          "execution_count": 148
        }
      ]
    }
  ]
}