{
  "nbformat": 4,
  "nbformat_minor": 0,
  "metadata": {
    "colab": {
      "provenance": [],
      "authorship_tag": "ABX9TyNJLAz4NwKP5Xn1YGjOFM7g",
      "include_colab_link": true
    },
    "kernelspec": {
      "name": "python3",
      "display_name": "Python 3"
    },
    "language_info": {
      "name": "python"
    }
  },
  "cells": [
    {
      "cell_type": "markdown",
      "metadata": {
        "id": "view-in-github",
        "colab_type": "text"
      },
      "source": [
        "<a href=\"https://colab.research.google.com/github/jcuesta123/TFM-RL/blob/main/helicopter_landing.ipynb\" target=\"_parent\"><img src=\"https://colab.research.google.com/assets/colab-badge.svg\" alt=\"Open In Colab\"/></a>"
      ]
    },
    {
      "cell_type": "code",
      "execution_count": 56,
      "metadata": {
        "id": "kAmN-zMVd5um"
      },
      "outputs": [],
      "source": [
        "#IMPORTS\n",
        "\n",
        "import numpy as np\n",
        "import math\n",
        "import random\n",
        "import matplotlib.pyplot as plt\n",
        "from collections import deque\n",
        "\n",
        "import torch\n",
        "import torch.nn as nn\n",
        "import torch.nn.functional as F\n",
        "import torch.optim as optim"
      ]
    },
    {
      "cell_type": "code",
      "source": [
        "#STATE, FEATURES, ACTIONS\n",
        "\n",
        "state = np.array([0., 0., 0., 0., 0., 0.]) # x,y,v_x,v_y,T,theta\n",
        "num_features = state.size\n",
        "num_actions = 5 # no action, more traction, less traction, more angle, less angle"
      ],
      "metadata": {
        "id": "hxTx49gQeWxs"
      },
      "execution_count": 4,
      "outputs": []
    },
    {
      "cell_type": "code",
      "source": [
        "#NEURONAL NETWORKS\n",
        "\n",
        "class DQN(nn.Module):\n",
        "    \"\"\"Dense neural network class.\"\"\"\n",
        "    def __init__(self, num_inputs, num_actions):\n",
        "        super(DQN, self).__init__()\n",
        "        self.fc1 = nn.Linear(num_inputs, 64)\n",
        "        self.fc2 = nn.Linear(64, 64)\n",
        "        self.out = nn.Linear(64, num_actions)\n",
        "\n",
        "    def forward(self, states):\n",
        "        \"\"\"Forward pass.\"\"\"\n",
        "        x = F.relu(self.fc1(states))\n",
        "        x = F.relu(self.fc2(x))\n",
        "        return self.out(x)\n",
        "\n",
        "device = torch.device(\"cuda\" if torch.cuda.is_available() else \"cpu\")\n",
        "\n",
        "main_nn = DQN(num_features, num_actions).to(device)\n",
        "target_nn = DQN(num_features, num_actions).to(device)\n",
        "\n",
        "optimizer = torch.optim.Adam(main_nn.parameters(), lr=1e-4)\n",
        "loss_fn = nn.MSELoss()"
      ],
      "metadata": {
        "id": "rWnvAiPYeGIk"
      },
      "execution_count": 54,
      "outputs": []
    },
    {
      "cell_type": "code",
      "source": [
        "#BUFFER MEMORY\n",
        "\n",
        "class ReplayBuffer(object):\n",
        "  \"\"\"Experience replay buffer that samples uniformly.\"\"\"\n",
        "  def __init__(self, size, device=\"cpu\"):\n",
        "    \"\"\"Initializes the buffer.\"\"\"\n",
        "    self.buffer = deque(maxlen=size)\n",
        "    self.device = device\n",
        "\n",
        "  def add(self, state, action, reward, next_state, done):\n",
        "    self.buffer.append((state, action, reward, next_state, done))\n",
        "\n",
        "  def __len__(self):\n",
        "    return len(self.buffer)\n",
        "\n",
        "  def sample(self, num_samples):\n",
        "    states, actions, rewards, next_states, dones = [], [], [], [], []\n",
        "    idx = np.random.choice(len(self.buffer), num_samples)\n",
        "    for i in idx:\n",
        "      elem = self.buffer[i]\n",
        "      state, action, reward, next_state, done = elem\n",
        "      states.append(np.array(state, copy=False))\n",
        "      actions.append(np.array(action, copy=False))\n",
        "      rewards.append(reward)\n",
        "      next_states.append(np.array(next_state, copy=False))\n",
        "      dones.append(done)\n",
        "    states = torch.as_tensor(np.array(states), device=self.device)\n",
        "    actions = torch.as_tensor(np.array(actions), device=self.device)\n",
        "    rewards = torch.as_tensor(np.array(rewards, dtype=np.float32), device=self.device\n",
        "    )\n",
        "    next_states = torch.as_tensor(np.array(next_states), device=self.device)\n",
        "    dones = torch.as_tensor(np.array(dones, dtype=np.float32), device=self.device)\n",
        "    return states, actions, rewards, next_states, dones"
      ],
      "metadata": {
        "id": "utkjVMLrewPd"
      },
      "execution_count": 7,
      "outputs": []
    },
    {
      "cell_type": "code",
      "source": [
        "#TRAIN FUNCTION\n",
        "\n",
        "def train_step(states, actions, rewards, next_states, dones):\n",
        "\n",
        "  max_next_qs = target_nn(next_states).max(-1).values\n",
        "  target = rewards + (1.0 - dones) * discount * max_next_qs\n",
        "  qs = main_nn(states)\n",
        "  action_masks = F.one_hot(actions, num_actions)\n",
        "  masked_qs = (action_masks * qs).sum(dim=-1)\n",
        "  loss = loss_fn(masked_qs, target.detach())\n",
        "\n",
        "  optimizer.zero_grad()\n",
        "  loss.backward()\n",
        "  optimizer.step()\n",
        "  return loss"
      ],
      "metadata": {
        "id": "Z4lkfLMie6gU"
      },
      "execution_count": 8,
      "outputs": []
    },
    {
      "cell_type": "code",
      "source": [
        "#ACTION FUNCTION\n",
        "\n",
        "def select_epsilon_greedy_action(state, epsilon):\n",
        "\n",
        "  result = np.random.uniform()\n",
        "\n",
        "  if result < epsilon:\n",
        "    return random.randint(0, num_actions-1)   #random action\n",
        "  else:\n",
        "    qs = main_nn(state).cpu().data.numpy()    #NN action\n",
        "    return np.argmax(qs)"
      ],
      "metadata": {
        "id": "GHbfARN1fHb8"
      },
      "execution_count": 10,
      "outputs": []
    },
    {
      "cell_type": "code",
      "source": [
        "#PARAMETERS\n",
        "g = 10\n",
        "m_h = 1\n",
        "deltaT = 0.1\n",
        "\n",
        "max_action_space = np.array([2*m_h*g, math.pi/4])\n",
        "min_action_space = np.array([0, -math.pi/4])"
      ],
      "metadata": {
        "id": "W9ammZh2f7Lt"
      },
      "execution_count": 11,
      "outputs": []
    },
    {
      "cell_type": "code",
      "source": [
        "#ENVIRONMENT FUNCTION\n",
        "\n",
        "def environment(state, action):\n",
        "\n",
        "  new_state = state\n",
        "  done = False\n",
        "\n",
        "  #processing action\n",
        "  if action == 1:\n",
        "    new_state[4] = state[4] + max_action_space[0]/100\n",
        "  elif action == 2:\n",
        "    new_state[4] = state[4] - max_action_space[0]/100\n",
        "  elif action == 3:\n",
        "    new_state[5] = state[5] + max_action_space[1]/1000\n",
        "  elif action == 4:\n",
        "    new_state[5] = state[5] - max_action_space[1]/1000\n",
        "  else: # if action == 0 -> no action\n",
        "    pass\n",
        "\n",
        "  #to not surpass limits\n",
        "  if new_state[4] > max_action_space[0]:\n",
        "    new_state[4] = max_action_space[0]\n",
        "  elif new_state[4] < min_action_space[0]:\n",
        "    new_state[4] = min_action_space[0]\n",
        "  elif new_state[5] > max_action_space[1]:\n",
        "    new_state[5] = max_action_space[1]\n",
        "  elif new_state[5] < min_action_space[1]:\n",
        "    new_state[5] = min_action_space[1]\n",
        "  else:\n",
        "    pass\n",
        "\n",
        "  #Mechanics\n",
        "  #Forces\n",
        "  a_x = new_state[4]*math.sin(new_state[5])/m_h\n",
        "  a_y = new_state[4]*math.cos(new_state[5])/m_h - g\n",
        "\n",
        "  #Velocities\n",
        "  new_state[2] = new_state[2] + deltaT*a_x\n",
        "  new_state[3] = new_state[3] + deltaT*a_y\n",
        "\n",
        "  #Positions\n",
        "  new_state[0] = new_state[0] + deltaT*new_state[2]\n",
        "  new_state[1] = new_state[1] + deltaT*new_state[3]\n",
        "\n",
        "  #TERMINATE TRAINING conditions\n",
        "\n",
        "  # On ground - in flight\n",
        "  if (state[1] < 0.1 and state[3] < -3):  #crash\n",
        "    done = True\n",
        "  elif (state[1] < 0.1 and state[3] > -3): #landing\n",
        "    done = True\n",
        "  elif (state[0] < -100 or state[0] > 100 or state[1] > 200):  #out of limits\n",
        "    done = True\n",
        "  else:\n",
        "    pass\n",
        "\n",
        "  # call reward function\n",
        "  reward = reward_function(new_state, done)\n",
        "\n",
        "  return new_state, reward, done"
      ],
      "metadata": {
        "id": "BpXuIz8hfem9"
      },
      "execution_count": 57,
      "outputs": []
    },
    {
      "cell_type": "code",
      "source": [
        "#REWARD FUCNTION\n",
        "\n",
        "def reward_function(state, done):\n",
        "\n",
        "  reward = 0\n",
        "\n",
        "  #velocity -> for low descent rate\n",
        "  if state[3] < -2:\n",
        "    reward += -1 + state[3]\n",
        "  elif state[3] >= 0:\n",
        "    reward += -1 - state[3]\n",
        "  else:\n",
        "    reward += 1\n",
        "\n",
        "  #position -> for approaching to destiny\n",
        "  reward += 1 - state[1] / initial_state[1]\n",
        "\n",
        "  # final -> landing or crash\n",
        "  if done == True:\n",
        "    reward += -10\n",
        "    if state[1] < 1 and state[3] > -3:\n",
        "      reward += 20\n",
        "\n",
        "  return reward"
      ],
      "metadata": {
        "id": "6ITaOfEHkcL-"
      },
      "execution_count": 48,
      "outputs": []
    },
    {
      "cell_type": "code",
      "source": [
        "#GRAPHIC FUNCTION\n",
        "\n",
        "def plot_traj(matrix_info):\n",
        "\n",
        "  # matrix to draw the results\n",
        "  x = matrix_info[:, 0]\n",
        "  y = matrix_info[:, 1]\n",
        "  v_x = matrix_info[:, 2]\n",
        "  v_y = matrix_info[:, 3]\n",
        "  T = matrix_info[:, 4]\n",
        "  theta = matrix_info[:, 5]\n",
        "  t = matrix_info[:,6]\n",
        "  r = matrix_info[:, 7]\n",
        "\n",
        "  #trajectory\n",
        "  plt.subplot(3, 2, 1)  #3 row, 2 columns, 1st position\n",
        "  plt.plot(x, y)  # 'r--' indica línea roja discontinua\n",
        "  plt.plot(dest[0], dest[1], 'ro')\n",
        "  plt.plot(x[0], y[1], 'ro')\n",
        "  plt.title('Trayectory (m)')\n",
        "  plt.xlabel('Axis X')\n",
        "  plt.ylabel('Axis Y')\n",
        "  plt.axhline(0, color='black', linewidth=0.5)\n",
        "  plt.axvline(0, color='black', linewidth=0.5)\n",
        "\n",
        "  #speed vs time\n",
        "  plt.subplot(3, 2, 2)\n",
        "  plt.title('Velocities (m/s)')\n",
        "  plt.plot(t, v_x, label='V_x (blue)', color='blue')\n",
        "  plt.plot(t, v_y, label='V_y (red)', color='red')\n",
        "  plt.legend()\n",
        "  plt.grid(True)\n",
        "\n",
        "  #traction vs time\n",
        "  plt.subplot(3, 2, 3)\n",
        "  plt.title('Traction(N)')\n",
        "  plt.plot(t, T, label='T', color='blue')\n",
        "  plt.grid(True)\n",
        "\n",
        "  #rewards vs time\n",
        "  plt.subplot(3, 2, 4)\n",
        "  plt.title('Cumulative reward')\n",
        "  plt.plot(t, r, label='Reward', color='blue')\n",
        "  plt.grid(True)\n",
        "\n",
        "  #angle theta vs time\n",
        "  plt.subplot(3, 2, 5)\n",
        "  plt.title('Theta(rad)')\n",
        "  plt.plot(t, theta, label='theta', color='red')\n",
        "  plt.grid(True)\n",
        "\n",
        "  plt.tight_layout()\n",
        "  plt.show()"
      ],
      "metadata": {
        "id": "Pa9lxnt3gQ-2"
      },
      "execution_count": 58,
      "outputs": []
    },
    {
      "cell_type": "code",
      "source": [
        "#INITIAL CONDITIONS\n",
        "\n",
        "initial_state = np.array([0, 100, 0, -1, 10, 0])\n",
        "dest = np.array([0, 0])"
      ],
      "metadata": {
        "id": "o05VKfqugcAc"
      },
      "execution_count": 59,
      "outputs": []
    },
    {
      "cell_type": "code",
      "source": [
        "#TRAINING LOOP\n",
        "\n",
        "# Hyperparameters.\n",
        "num_episodes = 100   #IMPORTANT\n",
        "epsilon = 1.0\n",
        "batch_size = 32\n",
        "discount = 0.99\n",
        "buffer = ReplayBuffer(100000, device=device)\n",
        "last_100_ep_rewards = []\n",
        "\n",
        "#main loop\n",
        "for episode in range(num_episodes+1):\n",
        "  state = initial_state.astype(np.float32)\n",
        "  cur_frame = 0\n",
        "  ep_reward = 0\n",
        "  done = False\n",
        "\n",
        "  #episodes\n",
        "  while not done:\n",
        "    if cur_frame > 1000:\n",
        "      break\n",
        "\n",
        "    state_in = torch.from_numpy(np.expand_dims(state, axis=0)).to(device)\n",
        "    action = select_epsilon_greedy_action(state_in, epsilon)\n",
        "    next_state, reward, done = environment(state, action)\n",
        "    next_state = next_state.astype(np.float32)\n",
        "    ep_reward += reward\n",
        "\n",
        "    #save experience\n",
        "    buffer.add(state, action, reward, next_state, done)\n",
        "    state = next_state\n",
        "    cur_frame += 1\n",
        "\n",
        "    #copy main_nn weights to target_nn.\n",
        "    if cur_frame % 2000 == 0:\n",
        "      target_nn.load_state_dict(main_nn.state_dict())\n",
        "\n",
        "    #train neural network.\n",
        "    if len(buffer) > batch_size:\n",
        "      states, actions, rewards, next_states, dones = buffer.sample(batch_size)\n",
        "      loss = train_step(states, actions, rewards, next_states, dones)\n",
        "\n",
        "  #epsilon decresases each episode\n",
        "  if epsilon > 0.05:\n",
        "    epsilon -= 0.95/num_episodes\n",
        "\n",
        "  if len(last_100_ep_rewards) == 100:\n",
        "    last_100_ep_rewards = last_100_ep_rewards[1:]\n",
        "  last_100_ep_rewards.append(ep_reward)\n",
        "\n",
        "  #printing training progress\n",
        "  if episode % 50 == 0:\n",
        "    print(f'Episode {episode}/{num_episodes}. Epsilon: {epsilon:.3f}.'\n",
        "          f' Reward in last 100 episodes: {np.mean(last_100_ep_rewards):.2f}')"
      ],
      "metadata": {
        "colab": {
          "base_uri": "https://localhost:8080/"
        },
        "id": "ZXSP7jvJgeJl",
        "outputId": "02636b65-047e-4b05-be37-cfab7041f2b2"
      },
      "execution_count": 60,
      "outputs": [
        {
          "output_type": "stream",
          "name": "stdout",
          "text": [
            "Episode 0/100. Epsilon: 0.991. Reward in last 100 episodes: -1181.53\n",
            "Episode 50/100. Epsilon: 0.516. Reward in last 100 episodes: -1193.06\n",
            "Episode 100/100. Epsilon: 0.041. Reward in last 100 episodes: -1152.48\n"
          ]
        }
      ]
    },
    {
      "cell_type": "code",
      "source": [
        "# FINAL SIMULATION, AFTER NN TRAINING\n",
        "\n",
        "epsilon = 0\n",
        "cur_frame = 0\n",
        "time = 0\n",
        "\n",
        "state = initial_state.astype(np.float32)\n",
        "matrix_info = np.concatenate((state, [time], [0]))\n",
        "ep_reward, done = 0, False\n",
        "\n",
        "while not done:\n",
        "\n",
        "  if cur_frame > 1000:\n",
        "    break\n",
        "  state_in = torch.from_numpy(np.expand_dims(state, axis=0)).to(device)\n",
        "  action = select_epsilon_greedy_action(state_in, epsilon)\n",
        "  next_state, reward, done = environment(state, action)\n",
        "  if done == True:\n",
        "    print(done)\n",
        "  next_state = next_state.astype(np.float32)\n",
        "  ep_reward += reward\n",
        "  time = deltaT * cur_frame\n",
        "\n",
        "  matrix_info = np.vstack([matrix_info, np.concatenate((state, [time], [ep_reward]))])\n",
        "\n",
        "  state = next_state\n",
        "  cur_frame += 1\n",
        "\n",
        "print('Initial state: ', initial_state)\n",
        "print('Episode terminated at frame: ', cur_frame, ', time = ', deltaT * cur_frame, 's')\n",
        "print('Reward reached: ', ep_reward)\n",
        "plot_traj(matrix_info)"
      ],
      "metadata": {
        "colab": {
          "base_uri": "https://localhost:8080/",
          "height": 560
        },
        "id": "N7TXtm6yg990",
        "outputId": "113eda66-c317-4d40-aea7-269b79ddca31"
      },
      "execution_count": 61,
      "outputs": [
        {
          "output_type": "stream",
          "name": "stdout",
          "text": [
            "True\n",
            "Initial state:  [  0 100   0  -1  10   0]\n",
            "Episode terminated at frame:  111 , time =  11.100000000000001 s\n",
            "Reward reached:  -1053.0943804388116\n"
          ]
        },
        {
          "output_type": "display_data",
          "data": {
            "text/plain": [
              "<Figure size 640x480 with 5 Axes>"
            ],
            "image/png": "[encoded data removed]"
          },
          "metadata": {}
        }
      ]
    }
  ]
}